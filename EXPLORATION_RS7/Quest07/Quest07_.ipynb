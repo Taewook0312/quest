{
 "cells": [
  {
   "cell_type": "code",
   "execution_count": 15,
   "id": "165131cd",
   "metadata": {},
   "outputs": [
    {
     "name": "stderr",
     "output_type": "stream",
     "text": [
      "[nltk_data] Downloading package stopwords to /aiffel/nltk_data...\n",
      "[nltk_data]   Unzipping corpora/stopwords.zip.\n"
     ]
    }
   ],
   "source": [
    "from importlib.metadata import version\n",
    "nltk.download('stopwords')\n",
    "import nltk\n",
    "import summa\n",
    "import pandas as pd\n",
    "import numpy as np\n",
    "import pandas as pd\n",
    "import os\n",
    "import re\n",
    "import matplotlib.pyplot as plt\n",
    "from nltk.corpus import stopwords\n",
    "from bs4 import BeautifulSoup \n",
    "from tensorflow.keras.preprocessing.text import Tokenizer \n",
    "from tensorflow.keras.preprocessing.sequence import pad_sequences\n",
    "import urllib.request\n",
    "import warnings"
   ]
  },
  {
   "cell_type": "code",
   "execution_count": 5,
   "id": "b1e2b745",
   "metadata": {},
   "outputs": [],
   "source": [
    "import urllib.request\n",
    "urllib.request.urlretrieve(\"https://raw.githubusercontent.com/sunnysai12345/News_Summary/master/news_summary_more.csv\", filename=\"news_summary_more.csv\")\n",
    "data = pd.read_csv('news_summary_more.csv', encoding='iso-8859-1')"
   ]
  },
  {
   "cell_type": "code",
   "execution_count": 6,
   "id": "5b0ea8f4",
   "metadata": {},
   "outputs": [
    {
     "data": {
      "text/html": [
       "<div>\n",
       "<style scoped>\n",
       "    .dataframe tbody tr th:only-of-type {\n",
       "        vertical-align: middle;\n",
       "    }\n",
       "\n",
       "    .dataframe tbody tr th {\n",
       "        vertical-align: top;\n",
       "    }\n",
       "\n",
       "    .dataframe thead th {\n",
       "        text-align: right;\n",
       "    }\n",
       "</style>\n",
       "<table border=\"1\" class=\"dataframe\">\n",
       "  <thead>\n",
       "    <tr style=\"text-align: right;\">\n",
       "      <th></th>\n",
       "      <th>headlines</th>\n",
       "      <th>text</th>\n",
       "    </tr>\n",
       "  </thead>\n",
       "  <tbody>\n",
       "    <tr>\n",
       "      <th>15251</th>\n",
       "      <td>Govt seeks to take over IL&amp;FS, proposes Kotak ...</td>\n",
       "      <td>The government has sought National Company Law...</td>\n",
       "    </tr>\n",
       "    <tr>\n",
       "      <th>60825</th>\n",
       "      <td>US, Japan launch 10-day naval drill amid North...</td>\n",
       "      <td>The US and Japan on Thursday launched a 10-day...</td>\n",
       "    </tr>\n",
       "    <tr>\n",
       "      <th>96814</th>\n",
       "      <td>Firefighter revives dog rescued from fire by p...</td>\n",
       "      <td>A firefighter from US revived a dog rescued fr...</td>\n",
       "    </tr>\n",
       "    <tr>\n",
       "      <th>27226</th>\n",
       "      <td>Karnataka CM proposes hike in petrol, diesel, ...</td>\n",
       "      <td>Karnataka CM HD Kumaraswamy on Wednesday propo...</td>\n",
       "    </tr>\n",
       "    <tr>\n",
       "      <th>29240</th>\n",
       "      <td>CSK defeat SRH to clinch record-equalling thir...</td>\n",
       "      <td>Playing in their seventh Indian Premier League...</td>\n",
       "    </tr>\n",
       "    <tr>\n",
       "      <th>73913</th>\n",
       "      <td>Youth arrested for molesting woman constable i...</td>\n",
       "      <td>A youth has been arrested for allegedly stalki...</td>\n",
       "    </tr>\n",
       "    <tr>\n",
       "      <th>8456</th>\n",
       "      <td>Will contest 2019 Lok Sabha polls independentl...</td>\n",
       "      <td>Great-granddaughter of Netaji Subhas Chandra B...</td>\n",
       "    </tr>\n",
       "    <tr>\n",
       "      <th>70014</th>\n",
       "      <td>I dance like crow: Dutt on shooting Tamma Tamm...</td>\n",
       "      <td>Sanjay Dutt has revealed that while shooting f...</td>\n",
       "    </tr>\n",
       "    <tr>\n",
       "      <th>39079</th>\n",
       "      <td>India is an inspiration for the world: UN chief</td>\n",
       "      <td>UN Secretary-General AntÃÂ³nio Guterres has s...</td>\n",
       "    </tr>\n",
       "    <tr>\n",
       "      <th>33940</th>\n",
       "      <td>Trump a tradesman not qualified to comment on ...</td>\n",
       "      <td>Iranian President Hassan Rouhani on Wednesday ...</td>\n",
       "    </tr>\n",
       "  </tbody>\n",
       "</table>\n",
       "</div>"
      ],
      "text/plain": [
       "                                               headlines  \\\n",
       "15251  Govt seeks to take over IL&FS, proposes Kotak ...   \n",
       "60825  US, Japan launch 10-day naval drill amid North...   \n",
       "96814  Firefighter revives dog rescued from fire by p...   \n",
       "27226  Karnataka CM proposes hike in petrol, diesel, ...   \n",
       "29240  CSK defeat SRH to clinch record-equalling thir...   \n",
       "73913  Youth arrested for molesting woman constable i...   \n",
       "8456   Will contest 2019 Lok Sabha polls independentl...   \n",
       "70014  I dance like crow: Dutt on shooting Tamma Tamm...   \n",
       "39079    India is an inspiration for the world: UN chief   \n",
       "33940  Trump a tradesman not qualified to comment on ...   \n",
       "\n",
       "                                                    text  \n",
       "15251  The government has sought National Company Law...  \n",
       "60825  The US and Japan on Thursday launched a 10-day...  \n",
       "96814  A firefighter from US revived a dog rescued fr...  \n",
       "27226  Karnataka CM HD Kumaraswamy on Wednesday propo...  \n",
       "29240  Playing in their seventh Indian Premier League...  \n",
       "73913  A youth has been arrested for allegedly stalki...  \n",
       "8456   Great-granddaughter of Netaji Subhas Chandra B...  \n",
       "70014  Sanjay Dutt has revealed that while shooting f...  \n",
       "39079  UN Secretary-General AntÃÂ³nio Guterres has s...  \n",
       "33940  Iranian President Hassan Rouhani on Wednesday ...  "
      ]
     },
     "execution_count": 6,
     "metadata": {},
     "output_type": "execute_result"
    }
   ],
   "source": [
    "data.sample(10)"
   ]
  },
  {
   "cell_type": "code",
   "execution_count": 7,
   "id": "2cb3a66a",
   "metadata": {},
   "outputs": [
    {
     "data": {
      "text/html": [
       "<div>\n",
       "<style scoped>\n",
       "    .dataframe tbody tr th:only-of-type {\n",
       "        vertical-align: middle;\n",
       "    }\n",
       "\n",
       "    .dataframe tbody tr th {\n",
       "        vertical-align: top;\n",
       "    }\n",
       "\n",
       "    .dataframe thead th {\n",
       "        text-align: right;\n",
       "    }\n",
       "</style>\n",
       "<table border=\"1\" class=\"dataframe\">\n",
       "  <thead>\n",
       "    <tr style=\"text-align: right;\">\n",
       "      <th></th>\n",
       "      <th>headlines</th>\n",
       "      <th>text</th>\n",
       "    </tr>\n",
       "  </thead>\n",
       "  <tbody>\n",
       "    <tr>\n",
       "      <th>64896</th>\n",
       "      <td>Mitron, won't speak about Shah-zada: Rahul Gandhi</td>\n",
       "      <td>Mimicking PM Narendra Modi, Congress Vice Pres...</td>\n",
       "    </tr>\n",
       "    <tr>\n",
       "      <th>8846</th>\n",
       "      <td>Government does not need RBI funds for next si...</td>\n",
       "      <td>Finance Minister Arun Jaitley on Friday said t...</td>\n",
       "    </tr>\n",
       "    <tr>\n",
       "      <th>9347</th>\n",
       "      <td>Cyclone Gaja destroys 3,000 trees planted by g...</td>\n",
       "      <td>Cyclone Gaja has destroyed 3,000 trees planted...</td>\n",
       "    </tr>\n",
       "    <tr>\n",
       "      <th>84800</th>\n",
       "      <td>Safety risk warnings for Grenfell Tower fire w...</td>\n",
       "      <td>The Grenfell Action Group residents' associati...</td>\n",
       "    </tr>\n",
       "    <tr>\n",
       "      <th>97688</th>\n",
       "      <td>Boston schools introduce new 'equal area' worl...</td>\n",
       "      <td>Public schools in US' Boston have introduced t...</td>\n",
       "    </tr>\n",
       "    <tr>\n",
       "      <th>75898</th>\n",
       "      <td>20k gallons of milk spoiled as squirrel starts...</td>\n",
       "      <td>Almost 20,000 gallons of milk were spoiled aft...</td>\n",
       "    </tr>\n",
       "    <tr>\n",
       "      <th>42133</th>\n",
       "      <td>EU antitrust chief threatens to break up Googl...</td>\n",
       "      <td>European Union's (EU) antitrust chief Margreth...</td>\n",
       "    </tr>\n",
       "    <tr>\n",
       "      <th>89781</th>\n",
       "      <td>Google traffic app lets users record direction...</td>\n",
       "      <td>Google-owned navigation and traffic app Waze h...</td>\n",
       "    </tr>\n",
       "    <tr>\n",
       "      <th>27670</th>\n",
       "      <td>Police launch hunt for tantrik after family of...</td>\n",
       "      <td>Delhi Police on Monday launched a manhunt for ...</td>\n",
       "    </tr>\n",
       "    <tr>\n",
       "      <th>8099</th>\n",
       "      <td>Body used to hurt a lot: Anushka on her charac...</td>\n",
       "      <td>Anushka Sharma, while talking about her charac...</td>\n",
       "    </tr>\n",
       "    <tr>\n",
       "      <th>19930</th>\n",
       "      <td>Army orders action against Major Gogoi who met...</td>\n",
       "      <td>Indian Army ordered disciplinary action agains...</td>\n",
       "    </tr>\n",
       "    <tr>\n",
       "      <th>97774</th>\n",
       "      <td>Google downgrades Nexus 6 phones to old Androi...</td>\n",
       "      <td>About two months after rolling out its latest ...</td>\n",
       "    </tr>\n",
       "    <tr>\n",
       "      <th>10080</th>\n",
       "      <td>OP Chautala expels son from INLD for anti-part...</td>\n",
       "      <td>Jailed INLD chief OP Chautala has expelled his...</td>\n",
       "    </tr>\n",
       "    <tr>\n",
       "      <th>24422</th>\n",
       "      <td>Gandhi Heritage Centre to be built in Uganda: ...</td>\n",
       "      <td>During his visit to Uganda, PM Narendra Modi o...</td>\n",
       "    </tr>\n",
       "    <tr>\n",
       "      <th>55825</th>\n",
       "      <td>Airtel to acquire telecom operator Tigo in Afr...</td>\n",
       "      <td>Sunil Mittal-led Airtel has entered into an ag...</td>\n",
       "    </tr>\n",
       "  </tbody>\n",
       "</table>\n",
       "</div>"
      ],
      "text/plain": [
       "                                               headlines  \\\n",
       "64896  Mitron, won't speak about Shah-zada: Rahul Gandhi   \n",
       "8846   Government does not need RBI funds for next si...   \n",
       "9347   Cyclone Gaja destroys 3,000 trees planted by g...   \n",
       "84800  Safety risk warnings for Grenfell Tower fire w...   \n",
       "97688  Boston schools introduce new 'equal area' worl...   \n",
       "75898  20k gallons of milk spoiled as squirrel starts...   \n",
       "42133  EU antitrust chief threatens to break up Googl...   \n",
       "89781  Google traffic app lets users record direction...   \n",
       "27670  Police launch hunt for tantrik after family of...   \n",
       "8099   Body used to hurt a lot: Anushka on her charac...   \n",
       "19930  Army orders action against Major Gogoi who met...   \n",
       "97774  Google downgrades Nexus 6 phones to old Androi...   \n",
       "10080  OP Chautala expels son from INLD for anti-part...   \n",
       "24422  Gandhi Heritage Centre to be built in Uganda: ...   \n",
       "55825  Airtel to acquire telecom operator Tigo in Afr...   \n",
       "\n",
       "                                                    text  \n",
       "64896  Mimicking PM Narendra Modi, Congress Vice Pres...  \n",
       "8846   Finance Minister Arun Jaitley on Friday said t...  \n",
       "9347   Cyclone Gaja has destroyed 3,000 trees planted...  \n",
       "84800  The Grenfell Action Group residents' associati...  \n",
       "97688  Public schools in US' Boston have introduced t...  \n",
       "75898  Almost 20,000 gallons of milk were spoiled aft...  \n",
       "42133  European Union's (EU) antitrust chief Margreth...  \n",
       "89781  Google-owned navigation and traffic app Waze h...  \n",
       "27670  Delhi Police on Monday launched a manhunt for ...  \n",
       "8099   Anushka Sharma, while talking about her charac...  \n",
       "19930  Indian Army ordered disciplinary action agains...  \n",
       "97774  About two months after rolling out its latest ...  \n",
       "10080  Jailed INLD chief OP Chautala has expelled his...  \n",
       "24422  During his visit to Uganda, PM Narendra Modi o...  \n",
       "55825  Sunil Mittal-led Airtel has entered into an ag...  "
      ]
     },
     "execution_count": 7,
     "metadata": {},
     "output_type": "execute_result"
    }
   ],
   "source": [
    "data = data[['headlines','text']]\n",
    "data.head()\n",
    "\n",
    "#랜덤한 15개 샘플 출력\n",
    "data.sample(15)"
   ]
  },
  {
   "cell_type": "code",
   "execution_count": 8,
   "id": "b471d7d2",
   "metadata": {},
   "outputs": [
    {
     "name": "stdout",
     "output_type": "stream",
     "text": [
      "Text 열에서 중복을 배제한 유일한 샘플의 수 : 98360\n",
      "Summary 열에서 중복을 배제한 유일한 샘플의 수 : 98280\n"
     ]
    }
   ],
   "source": [
    "print('Text 열에서 중복을 배제한 유일한 샘플의 수 :', data['text'].nunique())\n",
    "print('Summary 열에서 중복을 배제한 유일한 샘플의 수 :', data['headlines'].nunique())"
   ]
  },
  {
   "cell_type": "code",
   "execution_count": 10,
   "id": "5beb4dec",
   "metadata": {
    "scrolled": true
   },
   "outputs": [
    {
     "name": "stdout",
     "output_type": "stream",
     "text": [
      "전체 샘플수 : 98360\n"
     ]
    }
   ],
   "source": [
    "data.drop_duplicates(subset = ['text'], inplace=True)\n",
    "print('전체 샘플수 :', (len(data)))"
   ]
  },
  {
   "cell_type": "markdown",
   "id": "552dc186",
   "metadata": {},
   "source": [
    "nan 값이 없는 걸 확인 했지만 코드상에 표현 안했음.."
   ]
  },
  {
   "cell_type": "code",
   "execution_count": 11,
   "id": "68d5801c",
   "metadata": {},
   "outputs": [
    {
     "name": "stdout",
     "output_type": "stream",
     "text": [
      "headlines    0\n",
      "text         0\n",
      "dtype: int64\n"
     ]
    }
   ],
   "source": [
    "print(data.isnull().sum())"
   ]
  },
  {
   "cell_type": "code",
   "execution_count": 12,
   "id": "b8bd24cd",
   "metadata": {},
   "outputs": [
    {
     "name": "stdout",
     "output_type": "stream",
     "text": [
      "정규화 사전의 수:  120\n"
     ]
    }
   ],
   "source": [
    "contractions = {\"ain't\": \"is not\", \"aren't\": \"are not\",\"can't\": \"cannot\", \"'cause\": \"because\", \"could've\": \"could have\", \"couldn't\": \"could not\",\n",
    "                           \"didn't\": \"did not\",  \"doesn't\": \"does not\", \"don't\": \"do not\", \"hadn't\": \"had not\", \"hasn't\": \"has not\", \"haven't\": \"have not\",\n",
    "                           \"he'd\": \"he would\",\"he'll\": \"he will\", \"he's\": \"he is\", \"how'd\": \"how did\", \"how'd'y\": \"how do you\", \"how'll\": \"how will\", \"how's\": \"how is\",\n",
    "                           \"I'd\": \"I would\", \"I'd've\": \"I would have\", \"I'll\": \"I will\", \"I'll've\": \"I will have\",\"I'm\": \"I am\", \"I've\": \"I have\", \"i'd\": \"i would\",\n",
    "                           \"i'd've\": \"i would have\", \"i'll\": \"i will\",  \"i'll've\": \"i will have\",\"i'm\": \"i am\", \"i've\": \"i have\", \"isn't\": \"is not\", \"it'd\": \"it would\",\n",
    "                           \"it'd've\": \"it would have\", \"it'll\": \"it will\", \"it'll've\": \"it will have\",\"it's\": \"it is\", \"let's\": \"let us\", \"ma'am\": \"madam\",\n",
    "                           \"mayn't\": \"may not\", \"might've\": \"might have\",\"mightn't\": \"might not\",\"mightn't've\": \"might not have\", \"must've\": \"must have\",\n",
    "                           \"mustn't\": \"must not\", \"mustn't've\": \"must not have\", \"needn't\": \"need not\", \"needn't've\": \"need not have\",\"o'clock\": \"of the clock\",\n",
    "                           \"oughtn't\": \"ought not\", \"oughtn't've\": \"ought not have\", \"shan't\": \"shall not\", \"sha'n't\": \"shall not\", \"shan't've\": \"shall not have\",\n",
    "                           \"she'd\": \"she would\", \"she'd've\": \"she would have\", \"she'll\": \"she will\", \"she'll've\": \"she will have\", \"she's\": \"she is\",\n",
    "                           \"should've\": \"should have\", \"shouldn't\": \"should not\", \"shouldn't've\": \"should not have\", \"so've\": \"so have\",\"so's\": \"so as\",\n",
    "                           \"this's\": \"this is\",\"that'd\": \"that would\", \"that'd've\": \"that would have\", \"that's\": \"that is\", \"there'd\": \"there would\",\n",
    "                           \"there'd've\": \"there would have\", \"there's\": \"there is\", \"here's\": \"here is\",\"they'd\": \"they would\", \"they'd've\": \"they would have\",\n",
    "                           \"they'll\": \"they will\", \"they'll've\": \"they will have\", \"they're\": \"they are\", \"they've\": \"they have\", \"to've\": \"to have\",\n",
    "                           \"wasn't\": \"was not\", \"we'd\": \"we would\", \"we'd've\": \"we would have\", \"we'll\": \"we will\", \"we'll've\": \"we will have\", \"we're\": \"we are\",\n",
    "                           \"we've\": \"we have\", \"weren't\": \"were not\", \"what'll\": \"what will\", \"what'll've\": \"what will have\", \"what're\": \"what are\",\n",
    "                           \"what's\": \"what is\", \"what've\": \"what have\", \"when's\": \"when is\", \"when've\": \"when have\", \"where'd\": \"where did\", \"where's\": \"where is\",\n",
    "                           \"where've\": \"where have\", \"who'll\": \"who will\", \"who'll've\": \"who will have\", \"who's\": \"who is\", \"who've\": \"who have\",\n",
    "                           \"why's\": \"why is\", \"why've\": \"why have\", \"will've\": \"will have\", \"won't\": \"will not\", \"won't've\": \"will not have\",\n",
    "                           \"would've\": \"would have\", \"wouldn't\": \"would not\", \"wouldn't've\": \"would not have\", \"y'all\": \"you all\",\n",
    "                           \"y'all'd\": \"you all would\",\"y'all'd've\": \"you all would have\",\"y'all're\": \"you all are\",\"y'all've\": \"you all have\",\n",
    "                           \"you'd\": \"you would\", \"you'd've\": \"you would have\", \"you'll\": \"you will\", \"you'll've\": \"you will have\",\n",
    "                           \"you're\": \"you are\", \"you've\": \"you have\"}\n",
    "\n",
    "print(\"정규화 사전의 수: \", len(contractions))"
   ]
  },
  {
   "cell_type": "code",
   "execution_count": 16,
   "id": "838304b2",
   "metadata": {},
   "outputs": [
    {
     "name": "stdout",
     "output_type": "stream",
     "text": [
      "불용어 개수 : 179\n",
      "['i', 'me', 'my', 'myself', 'we', 'our', 'ours', 'ourselves', 'you', \"you're\", \"you've\", \"you'll\", \"you'd\", 'your', 'yours', 'yourself', 'yourselves', 'he', 'him', 'his', 'himself', 'she', \"she's\", 'her', 'hers', 'herself', 'it', \"it's\", 'its', 'itself', 'they', 'them', 'their', 'theirs', 'themselves', 'what', 'which', 'who', 'whom', 'this', 'that', \"that'll\", 'these', 'those', 'am', 'is', 'are', 'was', 'were', 'be', 'been', 'being', 'have', 'has', 'had', 'having', 'do', 'does', 'did', 'doing', 'a', 'an', 'the', 'and', 'but', 'if', 'or', 'because', 'as', 'until', 'while', 'of', 'at', 'by', 'for', 'with', 'about', 'against', 'between', 'into', 'through', 'during', 'before', 'after', 'above', 'below', 'to', 'from', 'up', 'down', 'in', 'out', 'on', 'off', 'over', 'under', 'again', 'further', 'then', 'once', 'here', 'there', 'when', 'where', 'why', 'how', 'all', 'any', 'both', 'each', 'few', 'more', 'most', 'other', 'some', 'such', 'no', 'nor', 'not', 'only', 'own', 'same', 'so', 'than', 'too', 'very', 's', 't', 'can', 'will', 'just', 'don', \"don't\", 'should', \"should've\", 'now', 'd', 'll', 'm', 'o', 're', 've', 'y', 'ain', 'aren', \"aren't\", 'couldn', \"couldn't\", 'didn', \"didn't\", 'doesn', \"doesn't\", 'hadn', \"hadn't\", 'hasn', \"hasn't\", 'haven', \"haven't\", 'isn', \"isn't\", 'ma', 'mightn', \"mightn't\", 'mustn', \"mustn't\", 'needn', \"needn't\", 'shan', \"shan't\", 'shouldn', \"shouldn't\", 'wasn', \"wasn't\", 'weren', \"weren't\", 'won', \"won't\", 'wouldn', \"wouldn't\"]\n"
     ]
    }
   ],
   "source": [
    "print('불용어 개수 :', len(stopwords.words('english') ))\n",
    "print(stopwords.words('english'))"
   ]
  },
  {
   "cell_type": "code",
   "execution_count": 17,
   "id": "01db852a",
   "metadata": {},
   "outputs": [],
   "source": [
    "# 데이터 전처리 함수\n",
    "def preprocess_sentence(sentence, remove_stopwords=True):\n",
    "    sentence = sentence.lower() # 텍스트 소문자화\n",
    "    sentence = BeautifulSoup(sentence, \"lxml\").text # <br />, <a href = ...> 등의 html 태그 제거\n",
    "    sentence = re.sub(r'\\([^)]*\\)', '', sentence) # 괄호로 닫힌 문자열 (...) 제거 Ex) my husband (and myself!) for => my husband for\n",
    "    sentence = re.sub('\"','', sentence) # 쌍따옴표 \" 제거\n",
    "    sentence = ' '.join([contractions[t] if t in contractions else t for t in sentence.split(\" \")]) # 약어 정규화\n",
    "    sentence = re.sub(r\"'s\\b\",\"\", sentence) # 소유격 제거. Ex) roland's -> roland\n",
    "    sentence = re.sub(\"[^a-zA-Z]\", \" \", sentence) # 영어 외 문자(숫자, 특수문자 등) 공백으로 변환\n",
    "    sentence = re.sub('[m]{2,}', 'mm', sentence) # m이 3개 이상이면 2개로 변경. Ex) ummmmmmm yeah -> umm yeah\n",
    "    \n",
    "    # 불용어 제거 (Text)\n",
    "    if remove_stopwords:\n",
    "        tokens = ' '.join(word for word in sentence.split() if not word in stopwords.words('english') if len(word) > 1)\n",
    "    # 불용어 미제거 (Summary)\n",
    "    else:\n",
    "        tokens = ' '.join(word for word in sentence.split() if len(word) > 1)\n",
    "    return tokens\n"
   ]
  },
  {
   "cell_type": "markdown",
   "id": "850b9b13",
   "metadata": {},
   "source": [
    "전처리 전, 후의 결과를 확인하기 위해서 임의의 text와 summary를 만들어 함수를 호출"
   ]
  },
  {
   "cell_type": "code",
   "execution_count": 18,
   "id": "bd548dc0",
   "metadata": {},
   "outputs": [
    {
     "name": "stdout",
     "output_type": "stream",
     "text": [
      "text:  everything bought great infact ordered twice third ordered wasfor mother father\n",
      "summary: great way to start the day\n"
     ]
    }
   ],
   "source": [
    "temp_text = 'Everything I bought was great, infact I ordered twice and the third ordered was<br />for my mother and father.'\n",
    "temp_summary = 'Great way to start (or finish) the day!!!'\n",
    "\n",
    "print(\"text: \", preprocess_sentence(temp_text))\n",
    "print(\"summary:\", preprocess_sentence(temp_summary, False))  # 불용어를 제거하지 않습니다."
   ]
  },
  {
   "cell_type": "markdown",
   "id": "e6a42430",
   "metadata": {},
   "source": [
    "훈련 데이터 전체의 Text 컬럼의 데이터를 전처리"
   ]
  },
  {
   "cell_type": "code",
   "execution_count": 19,
   "id": "a4d49066",
   "metadata": {},
   "outputs": [
    {
     "name": "stdout",
     "output_type": "stream",
     "text": [
      "Text 전처리 후 결과:  ['saurav kant alumnus upgrad iiit pg program machine learning artificial intelligence sr systems engineer infosys almost years work experience program upgrad degree career support helped transition data scientist tech mahindra salary hike upgrad online power learning powered lakh careers', 'kunal shah credit card bill payment platform cred gave users chance win free food swiggy one year pranav kaushik delhi techie bagged reward spending cred coins users get one cred coin per rupee bill paid used avail rewards brands like ixigo bookmyshow ubereats cult fit', 'new zealand defeated india wickets fourth odi hamilton thursday win first match five match odi series india lost international match rohit sharma captaincy consecutive victories dating back march match witnessed india getting seventh lowest total odi cricket history', 'aegon life iterm insurance plan customers enjoy tax benefits premiums paid save taxes plan provides life cover age years also customers options insure critical illnesses disability accidental death benefit rider life cover age years', 'speaking sexual harassment allegations rajkumar hirani sonam kapoor said known hirani many years true metoo movement get derailed metoo movement always believe woman case need reserve judgment added hirani accused assistant worked sanju']\n"
     ]
    }
   ],
   "source": [
    "clean_text = []\n",
    "\n",
    "# [[YOUR CODE]]\n",
    "for x in data['text']:\n",
    "    clean_text.append(preprocess_sentence(x,True))\n",
    "# 전처리 후 출력\n",
    "print(\"Text 전처리 후 결과: \", clean_text[:5])"
   ]
  },
  {
   "cell_type": "code",
   "execution_count": 20,
   "id": "0467969e",
   "metadata": {
    "scrolled": true
   },
   "outputs": [
    {
     "name": "stdout",
     "output_type": "stream",
     "text": [
      "headlines 전처리 후 결과:  ['upgrad learner switches to career in ml al with salary hike', 'delhi techie wins free food from swiggy for one year on cred', 'new zealand end rohit sharma led india match winning streak', 'aegon life iterm insurance plan helps customers save tax', 'have known hirani for yrs what if metoo claims are not true sonam']\n"
     ]
    }
   ],
   "source": [
    "# 전체 Summary 데이터에 대한 전처리 : 5분 이상 시간이 걸릴 수 있습니다. \n",
    "clean_summary = []\n",
    "\n",
    "# [[YOUR CODE]]\n",
    "for x in data['headlines']:\n",
    "    clean_summary.append(preprocess_sentence(x, False))\n",
    "\n",
    "print(\"headlines 전처리 후 결과: \", clean_summary[:5])"
   ]
  },
  {
   "cell_type": "markdown",
   "id": "7fa6d536",
   "metadata": {},
   "source": [
    "데이터 백업 "
   ]
  },
  {
   "cell_type": "code",
   "execution_count": 21,
   "id": "28cb7150",
   "metadata": {},
   "outputs": [],
   "source": [
    "data2 = data"
   ]
  },
  {
   "cell_type": "code",
   "execution_count": 22,
   "id": "4b199e88",
   "metadata": {},
   "outputs": [
    {
     "name": "stdout",
     "output_type": "stream",
     "text": [
      "=3\n"
     ]
    }
   ],
   "source": [
    "data['Text'] = clean_text\n",
    "data['Summary'] = clean_summary\n",
    "\n",
    "# 빈 값을 Null 값으로 변환\n",
    "data.replace('', np.nan, inplace=True)\n",
    "print('=3')"
   ]
  },
  {
   "cell_type": "code",
   "execution_count": 25,
   "id": "6730253a",
   "metadata": {},
   "outputs": [],
   "source": [
    "data=data[['Text','Summary']]"
   ]
  },
  {
   "cell_type": "code",
   "execution_count": 26,
   "id": "b4ea03bc",
   "metadata": {},
   "outputs": [
    {
     "data": {
      "text/html": [
       "<div>\n",
       "<style scoped>\n",
       "    .dataframe tbody tr th:only-of-type {\n",
       "        vertical-align: middle;\n",
       "    }\n",
       "\n",
       "    .dataframe tbody tr th {\n",
       "        vertical-align: top;\n",
       "    }\n",
       "\n",
       "    .dataframe thead th {\n",
       "        text-align: right;\n",
       "    }\n",
       "</style>\n",
       "<table border=\"1\" class=\"dataframe\">\n",
       "  <thead>\n",
       "    <tr style=\"text-align: right;\">\n",
       "      <th></th>\n",
       "      <th>Text</th>\n",
       "      <th>Summary</th>\n",
       "    </tr>\n",
       "  </thead>\n",
       "  <tbody>\n",
       "    <tr>\n",
       "      <th>0</th>\n",
       "      <td>saurav kant alumnus upgrad iiit pg program mac...</td>\n",
       "      <td>upgrad learner switches to career in ml al wit...</td>\n",
       "    </tr>\n",
       "    <tr>\n",
       "      <th>1</th>\n",
       "      <td>kunal shah credit card bill payment platform c...</td>\n",
       "      <td>delhi techie wins free food from swiggy for on...</td>\n",
       "    </tr>\n",
       "    <tr>\n",
       "      <th>2</th>\n",
       "      <td>new zealand defeated india wickets fourth odi ...</td>\n",
       "      <td>new zealand end rohit sharma led india match w...</td>\n",
       "    </tr>\n",
       "    <tr>\n",
       "      <th>3</th>\n",
       "      <td>aegon life iterm insurance plan customers enjo...</td>\n",
       "      <td>aegon life iterm insurance plan helps customer...</td>\n",
       "    </tr>\n",
       "    <tr>\n",
       "      <th>4</th>\n",
       "      <td>speaking sexual harassment allegations rajkuma...</td>\n",
       "      <td>have known hirani for yrs what if metoo claims...</td>\n",
       "    </tr>\n",
       "    <tr>\n",
       "      <th>...</th>\n",
       "      <td>...</td>\n",
       "      <td>...</td>\n",
       "    </tr>\n",
       "    <tr>\n",
       "      <th>98396</th>\n",
       "      <td>crpf jawan tuesday axed death sharp edged weap...</td>\n",
       "      <td>crpf jawan axed to death by maoists in chhatti...</td>\n",
       "    </tr>\n",
       "    <tr>\n",
       "      <th>98397</th>\n",
       "      <td>uff yeh first song sonakshi sinha starrer upco...</td>\n",
       "      <td>first song from sonakshi sinha noor titled uff...</td>\n",
       "    </tr>\n",
       "    <tr>\n",
       "      <th>98398</th>\n",
       "      <td>according reports new version science fiction ...</td>\n",
       "      <td>the matrix film to get reboot reports</td>\n",
       "    </tr>\n",
       "    <tr>\n",
       "      <th>98399</th>\n",
       "      <td>new music video shows rapper snoop dogg aiming...</td>\n",
       "      <td>snoop dogg aims gun at clown dressed as trump ...</td>\n",
       "    </tr>\n",
       "    <tr>\n",
       "      <th>98400</th>\n",
       "      <td>madhesi morcha alliance seven political partie...</td>\n",
       "      <td>madhesi morcha withdraws support to nepalese g...</td>\n",
       "    </tr>\n",
       "  </tbody>\n",
       "</table>\n",
       "<p>98360 rows × 2 columns</p>\n",
       "</div>"
      ],
      "text/plain": [
       "                                                    Text  \\\n",
       "0      saurav kant alumnus upgrad iiit pg program mac...   \n",
       "1      kunal shah credit card bill payment platform c...   \n",
       "2      new zealand defeated india wickets fourth odi ...   \n",
       "3      aegon life iterm insurance plan customers enjo...   \n",
       "4      speaking sexual harassment allegations rajkuma...   \n",
       "...                                                  ...   \n",
       "98396  crpf jawan tuesday axed death sharp edged weap...   \n",
       "98397  uff yeh first song sonakshi sinha starrer upco...   \n",
       "98398  according reports new version science fiction ...   \n",
       "98399  new music video shows rapper snoop dogg aiming...   \n",
       "98400  madhesi morcha alliance seven political partie...   \n",
       "\n",
       "                                                 Summary  \n",
       "0      upgrad learner switches to career in ml al wit...  \n",
       "1      delhi techie wins free food from swiggy for on...  \n",
       "2      new zealand end rohit sharma led india match w...  \n",
       "3      aegon life iterm insurance plan helps customer...  \n",
       "4      have known hirani for yrs what if metoo claims...  \n",
       "...                                                  ...  \n",
       "98396  crpf jawan axed to death by maoists in chhatti...  \n",
       "98397  first song from sonakshi sinha noor titled uff...  \n",
       "98398              the matrix film to get reboot reports  \n",
       "98399  snoop dogg aims gun at clown dressed as trump ...  \n",
       "98400  madhesi morcha withdraws support to nepalese g...  \n",
       "\n",
       "[98360 rows x 2 columns]"
      ]
     },
     "execution_count": 26,
     "metadata": {},
     "output_type": "execute_result"
    }
   ],
   "source": [
    "data\n"
   ]
  },
  {
   "cell_type": "code",
   "execution_count": 27,
   "id": "3a8d1869",
   "metadata": {
    "scrolled": true
   },
   "outputs": [
    {
     "data": {
      "text/plain": [
       "Text       0\n",
       "Summary    0\n",
       "dtype: int64"
      ]
     },
     "execution_count": 27,
     "metadata": {},
     "output_type": "execute_result"
    }
   ],
   "source": [
    "data.isnull().sum()"
   ]
  },
  {
   "cell_type": "markdown",
   "id": "bb7361ba",
   "metadata": {},
   "source": [
    "# Text와 Summary의 최소, 최대, 평균 길이를 구하고 또한 길이 분포를 시각화"
   ]
  },
  {
   "cell_type": "code",
   "execution_count": 28,
   "id": "ba4f6496",
   "metadata": {},
   "outputs": [
    {
     "name": "stdout",
     "output_type": "stream",
     "text": [
      "텍스트의 최소 길이 : 1\n",
      "텍스트의 최대 길이 : 60\n",
      "텍스트의 평균 길이 : 35.09968483123221\n",
      "요약의 최소 길이 : 1\n",
      "요약의 최대 길이 : 16\n",
      "요약의 평균 길이 : 9.299532330215534\n"
     ]
    },
    {
     "data": {
      "image/png": "[encoded data removed]",
      "text/plain": [
       "<Figure size 432x288 with 2 Axes>"
      ]
     },
     "metadata": {
      "needs_background": "light"
     },
     "output_type": "display_data"
    },
    {
     "data": {
      "image/png": "[encoded data removed]",
      "text/plain": [
       "<Figure size 432x288 with 1 Axes>"
      ]
     },
     "metadata": {
      "needs_background": "light"
     },
     "output_type": "display_data"
    },
    {
     "data": {
      "image/png": "[encoded data removed]",
      "text/plain": [
       "<Figure size 432x288 with 1 Axes>"
      ]
     },
     "metadata": {
      "needs_background": "light"
     },
     "output_type": "display_data"
    }
   ],
   "source": [
    "# 길이 분포 출력\n",
    "\n",
    "import matplotlib.pyplot as plt\n",
    "\n",
    "text_len = [len(s.split()) for s in data['Text']]\n",
    "summary_len = [len(s.split()) for s in data['Summary']]\n",
    "\n",
    "print('텍스트의 최소 길이 : {}'.format(np.min(text_len)))\n",
    "print('텍스트의 최대 길이 : {}'.format(np.max(text_len)))\n",
    "print('텍스트의 평균 길이 : {}'.format(np.mean(text_len)))\n",
    "print('요약의 최소 길이 : {}'.format(np.min(summary_len)))\n",
    "print('요약의 최대 길이 : {}'.format(np.max(summary_len)))\n",
    "print('요약의 평균 길이 : {}'.format(np.mean(summary_len)))\n",
    "\n",
    "plt.subplot(1,2,1)\n",
    "plt.boxplot(text_len)\n",
    "plt.title('Text')\n",
    "plt.subplot(1,2,2)\n",
    "plt.boxplot(summary_len)\n",
    "plt.title('Summary')\n",
    "plt.tight_layout()\n",
    "plt.show()\n",
    "\n",
    "plt.title('Text')\n",
    "plt.hist(text_len, bins = 40)\n",
    "plt.xlabel('length of samples')\n",
    "plt.ylabel('number of samples')\n",
    "plt.show()\n",
    "\n",
    "plt.title('Summary')\n",
    "plt.hist(summary_len, bins = 40)\n",
    "plt.xlabel('length of samples')\n",
    "plt.ylabel('number of samples')\n",
    "plt.show()\n"
   ]
  },
  {
   "cell_type": "markdown",
   "id": "42b0c978",
   "metadata": {},
   "source": [
    "Text의 경우 최소 길이가 1, 최대 길이가 60로 그 차이가 굉장히 크죠. 하지만 평균 길이는 35로 시각화된 그래프로 봤을 때는 대체적으로는 50내이하를 가진다는 것을 확인.\n",
    "\n",
    "Summary의 경우 최소 길이가 1, 최대 길이가 16, 그리고 평균 길이가 9로 Text에 비해 상대적으로 길이가 매우 짧아요. 그래프로 봤을 때에도 대체적으로 15 이하  길이를 가짐"
   ]
  },
  {
   "cell_type": "code",
   "execution_count": 32,
   "id": "580cd712",
   "metadata": {},
   "outputs": [
    {
     "name": "stdout",
     "output_type": "stream",
     "text": [
      "=3\n"
     ]
    },
    {
     "data": {
      "text/plain": [
       "<bound method NDFrame.head of                                                     Text  \\\n",
       "0      saurav kant alumnus upgrad iiit pg program mac...   \n",
       "1      kunal shah credit card bill payment platform c...   \n",
       "2      new zealand defeated india wickets fourth odi ...   \n",
       "3      aegon life iterm insurance plan customers enjo...   \n",
       "4      speaking sexual harassment allegations rajkuma...   \n",
       "...                                                  ...   \n",
       "98396  crpf jawan tuesday axed death sharp edged weap...   \n",
       "98397  uff yeh first song sonakshi sinha starrer upco...   \n",
       "98398  according reports new version science fiction ...   \n",
       "98399  new music video shows rapper snoop dogg aiming...   \n",
       "98400  madhesi morcha alliance seven political partie...   \n",
       "\n",
       "                                                 Summary  \n",
       "0      upgrad learner switches to career in ml al wit...  \n",
       "1      delhi techie wins free food from swiggy for on...  \n",
       "2      new zealand end rohit sharma led india match w...  \n",
       "3      aegon life iterm insurance plan helps customer...  \n",
       "4      have known hirani for yrs what if metoo claims...  \n",
       "...                                                  ...  \n",
       "98396  crpf jawan axed to death by maoists in chhatti...  \n",
       "98397  first song from sonakshi sinha noor titled uff...  \n",
       "98398              the matrix film to get reboot reports  \n",
       "98399  snoop dogg aims gun at clown dressed as trump ...  \n",
       "98400  madhesi morcha withdraws support to nepalese g...  \n",
       "\n",
       "[98360 rows x 2 columns]>"
      ]
     },
     "execution_count": 32,
     "metadata": {},
     "output_type": "execute_result"
    }
   ],
   "source": [
    "text_max_len = 50\n",
    "summary_max_len = 15\n",
    "print('=3')\n",
    "data.head"
   ]
  },
  {
   "cell_type": "code",
   "execution_count": 33,
   "id": "a8a33fe6",
   "metadata": {},
   "outputs": [
    {
     "name": "stdout",
     "output_type": "stream",
     "text": [
      "=3\n"
     ]
    }
   ],
   "source": [
    "def below_threshold_len(max_len, nested_list):\n",
    "  cnt = 0\n",
    "  for s in nested_list:\n",
    "    if(len(s.split()) <= max_len):\n",
    "        cnt = cnt + 1\n",
    "  print('전체 샘플 중 길이가 %s 이하인 샘플의 비율: %s'%(max_len, (cnt / len(nested_list))))\n",
    "print('=3')"
   ]
  },
  {
   "cell_type": "code",
   "execution_count": 34,
   "id": "538c1ea8",
   "metadata": {},
   "outputs": [
    {
     "name": "stdout",
     "output_type": "stream",
     "text": [
      "전체 샘플 중 길이가 50 이하인 샘플의 비율: 0.9998576657177715\n",
      "전체 샘플 중 길이가 15 이하인 샘플의 비율: 0.9999694997966653\n"
     ]
    }
   ],
   "source": [
    "below_threshold_len(text_max_len, data['Text'])\n",
    "below_threshold_len(summary_max_len,  data['Summary'])"
   ]
  },
  {
   "cell_type": "markdown",
   "id": "73e6811f",
   "metadata": {},
   "source": [
    "정해진 길이보다 길면 제외하는 방법으로 데이터를 정제"
   ]
  },
  {
   "cell_type": "code",
   "execution_count": 35,
   "id": "348d8d90",
   "metadata": {},
   "outputs": [
    {
     "name": "stdout",
     "output_type": "stream",
     "text": [
      "전체 샘플수 : 98343\n"
     ]
    }
   ],
   "source": [
    "data = data[data['Text'].apply(lambda x : len(x.split()) <= text_max_len)]\n",
    "data = data[data['Summary'].apply(lambda x : len(x.split()) <= summary_max_len)]\n",
    "print('전체 샘플수 :', (len(data)))"
   ]
  },
  {
   "cell_type": "code",
   "execution_count": 36,
   "id": "d078bf9d",
   "metadata": {
    "scrolled": true
   },
   "outputs": [
    {
     "data": {
      "text/html": [
       "<div>\n",
       "<style scoped>\n",
       "    .dataframe tbody tr th:only-of-type {\n",
       "        vertical-align: middle;\n",
       "    }\n",
       "\n",
       "    .dataframe tbody tr th {\n",
       "        vertical-align: top;\n",
       "    }\n",
       "\n",
       "    .dataframe thead th {\n",
       "        text-align: right;\n",
       "    }\n",
       "</style>\n",
       "<table border=\"1\" class=\"dataframe\">\n",
       "  <thead>\n",
       "    <tr style=\"text-align: right;\">\n",
       "      <th></th>\n",
       "      <th>Text</th>\n",
       "      <th>Summary</th>\n",
       "      <th>decoder_input</th>\n",
       "      <th>decoder_target</th>\n",
       "    </tr>\n",
       "  </thead>\n",
       "  <tbody>\n",
       "    <tr>\n",
       "      <th>0</th>\n",
       "      <td>saurav kant alumnus upgrad iiit pg program mac...</td>\n",
       "      <td>upgrad learner switches to career in ml al wit...</td>\n",
       "      <td>sostoken upgrad learner switches to career in ...</td>\n",
       "      <td>upgrad learner switches to career in ml al wit...</td>\n",
       "    </tr>\n",
       "    <tr>\n",
       "      <th>1</th>\n",
       "      <td>kunal shah credit card bill payment platform c...</td>\n",
       "      <td>delhi techie wins free food from swiggy for on...</td>\n",
       "      <td>sostoken delhi techie wins free food from swig...</td>\n",
       "      <td>delhi techie wins free food from swiggy for on...</td>\n",
       "    </tr>\n",
       "    <tr>\n",
       "      <th>2</th>\n",
       "      <td>new zealand defeated india wickets fourth odi ...</td>\n",
       "      <td>new zealand end rohit sharma led india match w...</td>\n",
       "      <td>sostoken new zealand end rohit sharma led indi...</td>\n",
       "      <td>new zealand end rohit sharma led india match w...</td>\n",
       "    </tr>\n",
       "    <tr>\n",
       "      <th>3</th>\n",
       "      <td>aegon life iterm insurance plan customers enjo...</td>\n",
       "      <td>aegon life iterm insurance plan helps customer...</td>\n",
       "      <td>sostoken aegon life iterm insurance plan helps...</td>\n",
       "      <td>aegon life iterm insurance plan helps customer...</td>\n",
       "    </tr>\n",
       "    <tr>\n",
       "      <th>4</th>\n",
       "      <td>speaking sexual harassment allegations rajkuma...</td>\n",
       "      <td>have known hirani for yrs what if metoo claims...</td>\n",
       "      <td>sostoken have known hirani for yrs what if met...</td>\n",
       "      <td>have known hirani for yrs what if metoo claims...</td>\n",
       "    </tr>\n",
       "  </tbody>\n",
       "</table>\n",
       "</div>"
      ],
      "text/plain": [
       "                                                Text  \\\n",
       "0  saurav kant alumnus upgrad iiit pg program mac...   \n",
       "1  kunal shah credit card bill payment platform c...   \n",
       "2  new zealand defeated india wickets fourth odi ...   \n",
       "3  aegon life iterm insurance plan customers enjo...   \n",
       "4  speaking sexual harassment allegations rajkuma...   \n",
       "\n",
       "                                             Summary  \\\n",
       "0  upgrad learner switches to career in ml al wit...   \n",
       "1  delhi techie wins free food from swiggy for on...   \n",
       "2  new zealand end rohit sharma led india match w...   \n",
       "3  aegon life iterm insurance plan helps customer...   \n",
       "4  have known hirani for yrs what if metoo claims...   \n",
       "\n",
       "                                       decoder_input  \\\n",
       "0  sostoken upgrad learner switches to career in ...   \n",
       "1  sostoken delhi techie wins free food from swig...   \n",
       "2  sostoken new zealand end rohit sharma led indi...   \n",
       "3  sostoken aegon life iterm insurance plan helps...   \n",
       "4  sostoken have known hirani for yrs what if met...   \n",
       "\n",
       "                                      decoder_target  \n",
       "0  upgrad learner switches to career in ml al wit...  \n",
       "1  delhi techie wins free food from swiggy for on...  \n",
       "2  new zealand end rohit sharma led india match w...  \n",
       "3  aegon life iterm insurance plan helps customer...  \n",
       "4  have known hirani for yrs what if metoo claims...  "
      ]
     },
     "execution_count": 36,
     "metadata": {},
     "output_type": "execute_result"
    }
   ],
   "source": [
    "# 요약 데이터에는 시작 토큰과 종료 토큰을 추가한다.\n",
    "data['decoder_input'] = data['Summary'].apply(lambda x : 'sostoken '+ x)\n",
    "data['decoder_target'] = data['Summary'].apply(lambda x : x + ' eostoken')\n",
    "data.head()"
   ]
  },
  {
   "cell_type": "markdown",
   "id": "f028843c",
   "metadata": {},
   "source": [
    "seq2seq 훈련을 위해서는 디코더의 입력과 레이블에 시작 토큰과 종료 토큰을 추가.시작 토큰은 sostoken, 종료 토큰은 eostoken이라 임의로 명명하고 앞, 뒤로 추가 디코더의 입력에 해당하면서 시작 토큰이 맨 앞에 있는 문장의 이름을 decoder_input, 디코더의 출력 또는 레이블에 해당되면서 종료 토큰이 맨 뒤에 붙는 문장의 이름을 decoder_target 두 개의 문장 모두 Summary 열로부터 생성"
   ]
  },
  {
   "cell_type": "code",
   "execution_count": 37,
   "id": "ae2fc1c1",
   "metadata": {},
   "outputs": [
    {
     "name": "stdout",
     "output_type": "stream",
     "text": [
      "=3\n"
     ]
    }
   ],
   "source": [
    "encoder_input = np.array(data['Text']) # 인코더의 입력\n",
    "decoder_input = np.array(data['decoder_input']) # 디코더의 입력\n",
    "decoder_target = np.array(data['decoder_target']) # 디코더의 레이블\n",
    "print('=3')\n"
   ]
  },
  {
   "cell_type": "markdown",
   "id": "f559fccf",
   "metadata": {},
   "source": [
    "인코더의 입력, 디코더의 입력과 레이블을 각각 다시 Numpy 타입으로 저장"
   ]
  },
  {
   "cell_type": "markdown",
   "id": "f6096a4c",
   "metadata": {},
   "source": [
    "훈련 데이터와 테스트 데이터를 분리하는 방법은 분리 패키지를 사용하는 방법, 또는 직접 코딩을 통해서 분리하는 방법 등 여러 가지 방법 중 직접 선택. 우선, encoder_input과 크기와 형태가 같은 순서가 섞인 정수 시퀀스를 만들기."
   ]
  },
  {
   "cell_type": "code",
   "execution_count": 38,
   "id": "d4191e82",
   "metadata": {},
   "outputs": [
    {
     "name": "stdout",
     "output_type": "stream",
     "text": [
      "[51528 62945 62393 ... 60303  8165 10111]\n"
     ]
    }
   ],
   "source": [
    "indices = np.arange(encoder_input.shape[0])\n",
    "np.random.shuffle(indices)\n",
    "print(indices)"
   ]
  },
  {
   "cell_type": "code",
   "execution_count": 39,
   "id": "343c6dd6",
   "metadata": {},
   "outputs": [],
   "source": [
    "encoder_input = encoder_input[indices]\n",
    "decoder_input = decoder_input[indices]\n",
    "decoder_target = decoder_target[indices]"
   ]
  },
  {
   "cell_type": "markdown",
   "id": "792d1266",
   "metadata": {},
   "source": [
    "이제 섞인 데이터를 8:2의 비율로 훈련 데이터와 테스트 데이터로 분리. 전체 데이터의 크기에서 0.2를 곱해서 테스트 데이터의 크기를 정의."
   ]
  },
  {
   "cell_type": "code",
   "execution_count": 40,
   "id": "2da5fdeb",
   "metadata": {},
   "outputs": [
    {
     "name": "stdout",
     "output_type": "stream",
     "text": [
      "테스트 데이터의 수 : 19668\n"
     ]
    }
   ],
   "source": [
    "n_of_val = int(len(encoder_input)*0.2)\n",
    "print('테스트 데이터의 수 :', n_of_val)"
   ]
  },
  {
   "cell_type": "code",
   "execution_count": 41,
   "id": "8786094c",
   "metadata": {},
   "outputs": [
    {
     "name": "stdout",
     "output_type": "stream",
     "text": [
      "훈련 데이터의 개수 : 78675\n",
      "훈련 레이블의 개수 : 78675\n",
      "테스트 데이터의 개수 : 19668\n",
      "테스트 레이블의 개수 : 19668\n"
     ]
    }
   ],
   "source": [
    "encoder_input_train = encoder_input[:-n_of_val]\n",
    "decoder_input_train = decoder_input[:-n_of_val]\n",
    "decoder_target_train = decoder_target[:-n_of_val]\n",
    "\n",
    "encoder_input_test = encoder_input[-n_of_val:]\n",
    "decoder_input_test = decoder_input[-n_of_val:]\n",
    "decoder_target_test = decoder_target[-n_of_val:]\n",
    "\n",
    "print('훈련 데이터의 개수 :', len(encoder_input_train))\n",
    "print('훈련 레이블의 개수 :', len(decoder_input_train))\n",
    "print('테스트 데이터의 개수 :', len(encoder_input_test))\n",
    "print('테스트 레이블의 개수 :', len(decoder_input_test))"
   ]
  },
  {
   "cell_type": "code",
   "execution_count": 42,
   "id": "6a6c9985",
   "metadata": {},
   "outputs": [
    {
     "name": "stdout",
     "output_type": "stream",
     "text": [
      "=3\n"
     ]
    }
   ],
   "source": [
    "src_tokenizer = Tokenizer() # 토크나이저 정의\n",
    "src_tokenizer.fit_on_texts(encoder_input_train) # 입력된 데이터로부터 단어 집합 생성\n",
    "print('=3')"
   ]
  },
  {
   "cell_type": "code",
   "execution_count": 43,
   "id": "f08d3cf6",
   "metadata": {
    "scrolled": true
   },
   "outputs": [
    {
     "name": "stdout",
     "output_type": "stream",
     "text": [
      "단어 집합(vocabulary)의 크기 : 69652\n",
      "등장 빈도가 6번 이하인 희귀 단어의 수: 47431\n",
      "단어 집합에서 희귀 단어를 제외시킬 경우의 단어 집합의 크기 22221\n",
      "단어 집합에서 희귀 단어의 비율: 68.0971113535864\n",
      "전체 등장 빈도에서 희귀 단어 등장 빈도 비율: 3.482540219440993\n"
     ]
    }
   ],
   "source": [
    "threshold = 7\n",
    "total_cnt = len(src_tokenizer.word_index) # 단어의 수\n",
    "rare_cnt = 0 # 등장 빈도수가 threshold보다 작은 단어의 개수를 카운트\n",
    "total_freq = 0 # 훈련 데이터의 전체 단어 빈도수 총 합\n",
    "rare_freq = 0 # 등장 빈도수가 threshold보다 작은 단어의 등장 빈도수의 총 합\n",
    "\n",
    "# 단어와 빈도수의 쌍(pair)을 key와 value로 받는다.\n",
    "for key, value in src_tokenizer.word_counts.items():\n",
    "    total_freq = total_freq + value\n",
    "\n",
    "    # 단어의 등장 빈도수가 threshold보다 작으면\n",
    "    if(value < threshold):\n",
    "        rare_cnt = rare_cnt + 1\n",
    "        rare_freq = rare_freq + value\n",
    "\n",
    "print('단어 집합(vocabulary)의 크기 :', total_cnt)\n",
    "print('등장 빈도가 %s번 이하인 희귀 단어의 수: %s'%(threshold - 1, rare_cnt))\n",
    "print('단어 집합에서 희귀 단어를 제외시킬 경우의 단어 집합의 크기 %s'%(total_cnt - rare_cnt))\n",
    "print(\"단어 집합에서 희귀 단어의 비율:\", (rare_cnt / total_cnt)*100)\n",
    "print(\"전체 등장 빈도에서 희귀 단어 등장 빈도 비율:\", (rare_freq / total_freq)*100)"
   ]
  },
  {
   "cell_type": "markdown",
   "id": "d654ee90",
   "metadata": {},
   "source": [
    "등장 빈도가 threshold 값인 7회 미만, 즉 6회 이하인 단어들은 단어 집합에서 무려 68% 이상을 차지. 하지만 실제로 훈련 데이터에서 등장 빈도로 차지하는 비중은 상대적으로 적은 수치인 3.4~5%.\n",
    "\n",
    "그래서 등장 빈도가 6회 이하인 단어들은 정수 인코딩 과정에서 빼고, 훈련 데이터에서 제거. 위에서 이를 제외한 단어 집합의 크기를 22000여 개로 계산했는데, 이와 비슷한 값으로 어림잡아 단어 집합의 크기를 22000으로 제한. 토크나이저를 정의할 때 num_words의 값을 정해주면, 단어 집합의 크기를 제한."
   ]
  },
  {
   "cell_type": "code",
   "execution_count": 44,
   "id": "f70bdce0",
   "metadata": {},
   "outputs": [
    {
     "name": "stdout",
     "output_type": "stream",
     "text": [
      "=3\n"
     ]
    }
   ],
   "source": [
    "src_vocab = 22000\n",
    "src_tokenizer = Tokenizer(num_words=src_vocab) # 단어 집합의 크기를 8,000으로 제한\n",
    "src_tokenizer.fit_on_texts(encoder_input_train) # 단어 집합 재생성\n",
    "print('=3')"
   ]
  },
  {
   "cell_type": "code",
   "execution_count": 45,
   "id": "cd7b556e",
   "metadata": {},
   "outputs": [
    {
     "name": "stdout",
     "output_type": "stream",
     "text": [
      "[[25, 758, 152, 15, 10485, 6792, 57, 94, 5136, 7, 380, 6792, 92, 1523, 19, 89, 28, 440, 152, 15, 10983, 8822, 347, 892, 372, 6792, 309, 39, 2188, 152, 15, 103, 258, 372, 502, 29, 3], [3058, 72, 74, 134, 6334, 2611, 144, 507, 3467, 2485, 61, 1738, 404, 72, 2982, 177, 14, 20711, 968, 14, 9116, 1425, 1218, 3976, 4279, 593, 61, 3467, 6702, 75, 3058], [7, 515, 80, 1344, 2244, 334, 1430, 2380, 1984, 177, 14, 1154, 3431, 118, 520, 4733, 221, 378, 2790, 3780, 6056, 247, 660, 3059, 6, 875, 19426]]\n"
     ]
    }
   ],
   "source": [
    "# 텍스트 시퀀스를 정수 시퀀스로 변환\n",
    "encoder_input_train = src_tokenizer.texts_to_sequences(encoder_input_train) \n",
    "encoder_input_test = src_tokenizer.texts_to_sequences(encoder_input_test)\n",
    "\n",
    "# 잘 진행되었는지 샘플 출력\n",
    "print(encoder_input_train[:3])"
   ]
  },
  {
   "cell_type": "code",
   "execution_count": 46,
   "id": "580cdefa",
   "metadata": {},
   "outputs": [
    {
     "name": "stdout",
     "output_type": "stream",
     "text": [
      "=3\n"
     ]
    }
   ],
   "source": [
    "tar_tokenizer = Tokenizer()\n",
    "tar_tokenizer.fit_on_texts(decoder_input_train)\n",
    "print('=3')"
   ]
  },
  {
   "cell_type": "code",
   "execution_count": 50,
   "id": "441b73b6",
   "metadata": {},
   "outputs": [
    {
     "name": "stdout",
     "output_type": "stream",
     "text": [
      "단어 집합(vocabulary)의 크기 : 30056\n",
      "등장 빈도가 8번 이하인 희귀 단어의 수: 21870\n",
      "단어 집합에서 희귀 단어를 제외시킬 경우의 단어 집합의 크기 8186\n",
      "단어 집합에서 희귀 단어의 비율: 72.76417354272026\n",
      "전체 등장 빈도에서 희귀 단어 등장 빈도 비율: 6.537558352326505\n"
     ]
    }
   ],
   "source": [
    "threshold = 9\n",
    "total_cnt = len(tar_tokenizer.word_index) # 단어의 수\n",
    "rare_cnt = 0 # 등장 빈도수가 threshold보다 작은 단어의 개수를 카운트\n",
    "total_freq = 0 # 훈련 데이터의 전체 단어 빈도수 총 합\n",
    "rare_freq = 0 # 등장 빈도수가 threshold보다 작은 단어의 등장 빈도수의 총 합\n",
    "\n",
    "# 단어와 빈도수의 쌍(pair)을 key와 value로 받는다.\n",
    "for key, value in tar_tokenizer.word_counts.items():\n",
    "    total_freq = total_freq + value\n",
    "\n",
    "    # 단어의 등장 빈도수가 threshold보다 작으면\n",
    "    if(value < threshold):\n",
    "        rare_cnt = rare_cnt + 1\n",
    "        rare_freq = rare_freq + value\n",
    "\n",
    "print('단어 집합(vocabulary)의 크기 :', total_cnt)\n",
    "print('등장 빈도가 %s번 이하인 희귀 단어의 수: %s'%(threshold - 1, rare_cnt))\n",
    "print('단어 집합에서 희귀 단어를 제외시킬 경우의 단어 집합의 크기 %s'%(total_cnt - rare_cnt))\n",
    "print(\"단어 집합에서 희귀 단어의 비율:\", (rare_cnt / total_cnt)*100)\n",
    "print(\"전체 등장 빈도에서 희귀 단어 등장 빈도 비율:\", (rare_freq / total_freq)*100)"
   ]
  },
  {
   "cell_type": "code",
   "execution_count": 51,
   "id": "ed5a2792",
   "metadata": {},
   "outputs": [
    {
     "name": "stdout",
     "output_type": "stream",
     "text": [
      "input\n",
      "input  [[1, 37, 1197, 22, 408, 2280], [1, 1505, 310, 36, 164, 122, 5431, 150, 98, 3657, 224], [1, 1250, 256, 616, 42, 366, 14, 53], [1, 5031, 6156, 789, 15, 2436, 7, 18, 712], [1, 2437, 656, 943, 1021, 4262, 356, 5872, 155]]\n",
      "target\n",
      "decoder  [[37, 1197, 22, 408, 2280, 2], [1505, 310, 36, 164, 122, 5431, 150, 98, 3657, 224, 2], [1250, 256, 616, 42, 366, 14, 53, 2], [5031, 6156, 789, 15, 2436, 7, 18, 712, 2], [2437, 656, 943, 1021, 4262, 356, 5872, 155, 2]]\n"
     ]
    }
   ],
   "source": [
    "tar_vocab = 8100\n",
    "tar_tokenizer = Tokenizer(num_words=tar_vocab) \n",
    "tar_tokenizer.fit_on_texts(decoder_input_train)\n",
    "tar_tokenizer.fit_on_texts(decoder_target_train)\n",
    "\n",
    "# 텍스트 시퀀스를 정수 시퀀스로 변환\n",
    "decoder_input_train = tar_tokenizer.texts_to_sequences(decoder_input_train) \n",
    "decoder_target_train = tar_tokenizer.texts_to_sequences(decoder_target_train)\n",
    "decoder_input_test = tar_tokenizer.texts_to_sequences(decoder_input_test)\n",
    "decoder_target_test = tar_tokenizer.texts_to_sequences(decoder_target_test)\n",
    "\n",
    "# 잘 변환되었는지 확인\n",
    "print('input')\n",
    "print('input ',decoder_input_train[:5])\n",
    "print('target')\n",
    "print('decoder ',decoder_target_train[:5])"
   ]
  },
  {
   "cell_type": "markdown",
   "id": "b384d469",
   "metadata": {},
   "source": [
    "훈련 데이터와 테스트 데이터에 대해서 요약문의 길이가 1인 경우의 인덱스를 각각 drop_train과 drop_test에 라는 변수에 저장해볼게요. 이 샘플들은 모두 삭제."
   ]
  },
  {
   "cell_type": "code",
   "execution_count": 52,
   "id": "f33ab6b6",
   "metadata": {},
   "outputs": [
    {
     "name": "stdout",
     "output_type": "stream",
     "text": [
      "삭제할 훈련 데이터의 개수 : 1\n",
      "삭제할 테스트 데이터의 개수 : 0\n",
      "훈련 데이터의 개수 : 78674\n",
      "훈련 레이블의 개수 : 78674\n",
      "테스트 데이터의 개수 : 19668\n",
      "테스트 레이블의 개수 : 19668\n"
     ]
    }
   ],
   "source": [
    "drop_train = [index for index, sentence in enumerate(decoder_input_train) if len(sentence) == 1]\n",
    "drop_test = [index for index, sentence in enumerate(decoder_input_test) if len(sentence) == 1]\n",
    "\n",
    "print('삭제할 훈련 데이터의 개수 :', len(drop_train))\n",
    "print('삭제할 테스트 데이터의 개수 :', len(drop_test))\n",
    "\n",
    "encoder_input_train = [sentence for index, sentence in enumerate(encoder_input_train) if index not in drop_train]\n",
    "decoder_input_train = [sentence for index, sentence in enumerate(decoder_input_train) if index not in drop_train]\n",
    "decoder_target_train = [sentence for index, sentence in enumerate(decoder_target_train) if index not in drop_train]\n",
    "\n",
    "encoder_input_test = [sentence for index, sentence in enumerate(encoder_input_test) if index not in drop_test]\n",
    "decoder_input_test = [sentence for index, sentence in enumerate(decoder_input_test) if index not in drop_test]\n",
    "decoder_target_test = [sentence for index, sentence in enumerate(decoder_target_test) if index not in drop_test]\n",
    "\n",
    "print('훈련 데이터의 개수 :', len(encoder_input_train))\n",
    "print('훈련 레이블의 개수 :', len(decoder_input_train))\n",
    "print('테스트 데이터의 개수 :', len(encoder_input_test))\n",
    "print('테스트 레이블의 개수 :', len(decoder_input_test))"
   ]
  },
  {
   "cell_type": "code",
   "execution_count": 53,
   "id": "d4b52731",
   "metadata": {},
   "outputs": [
    {
     "name": "stdout",
     "output_type": "stream",
     "text": [
      "=3\n"
     ]
    }
   ],
   "source": [
    "encoder_input_train = pad_sequences(encoder_input_train, maxlen=text_max_len, padding='post')\n",
    "encoder_input_test = pad_sequences(encoder_input_test, maxlen=text_max_len, padding='post')\n",
    "decoder_input_train = pad_sequences(decoder_input_train, maxlen=summary_max_len, padding='post')\n",
    "decoder_target_train = pad_sequences(decoder_target_train, maxlen=summary_max_len, padding='post')\n",
    "decoder_input_test = pad_sequences(decoder_input_test, maxlen=summary_max_len, padding='post')\n",
    "decoder_target_test = pad_sequences(decoder_target_test, maxlen=summary_max_len, padding='post')\n",
    "print('=3')"
   ]
  },
  {
   "cell_type": "markdown",
   "id": "f513247a",
   "metadata": {},
   "source": [
    "학습에 필요한 데이터 전처리가 모두 끝"
   ]
  },
  {
   "cell_type": "markdown",
   "id": "41f8c710",
   "metadata": {},
   "source": [
    "# 모델 설계 "
   ]
  },
  {
   "cell_type": "code",
   "execution_count": 54,
   "id": "3aca7842",
   "metadata": {},
   "outputs": [],
   "source": [
    "from tensorflow.keras.layers import Input, LSTM, Embedding, Dense, Concatenate, TimeDistributed\n",
    "from tensorflow.keras.models import Model\n",
    "from tensorflow.keras.callbacks import EarlyStopping, ModelCheckpoint\n",
    "\n",
    "\n",
    "# 인코더 설계 시작\n",
    "embedding_dim = 128\n",
    "hidden_size = 256\n",
    "\n",
    "# 인코더\n",
    "encoder_inputs = Input(shape=(text_max_len,))\n",
    "\n",
    "# 인코더의 임베딩 층\n",
    "enc_emb = Embedding(src_vocab, embedding_dim)(encoder_inputs)\n",
    "\n",
    "# 인코더의 LSTM 1\n",
    "# encoder_lstm1 = LSTM(hidden_size, return_sequences=True, return_state=True ,dropout = 0.4, recurrent_dropout = 0.4)\n",
    "encoder_lstm1 = LSTM(hidden_size, return_sequences=True, return_state=True ,dropout = 0.4)\n",
    "encoder_output1, state_h1, state_c1 = encoder_lstm1(enc_emb)\n",
    "\n",
    "# 인코더의 LSTM 2\n",
    "# [[YOUR CODE]]\n",
    "encoder_lstm2 = LSTM(hidden_size, return_sequences=True, return_state=True ,dropout = 0.4)\n",
    "encoder_output2, state_h2, state_c2 = encoder_lstm2(encoder_output1)\n",
    "\n",
    "# 인코더의 LSTM 3\n",
    "# [[YOUR CODE]]\n",
    "encoder_lstm3 = LSTM(hidden_size, return_sequences=True, return_state=True ,dropout = 0.4)\n",
    "encoder_output3, state_h3, state_c3 = encoder_lstm3(encoder_output2)\n"
   ]
  },
  {
   "cell_type": "code",
   "execution_count": 55,
   "id": "314dde04",
   "metadata": {},
   "outputs": [],
   "source": [
    "# 디코더 설계\n",
    "decoder_inputs = Input(shape=(None,))\n",
    "\n",
    "# 디코더의 임베딩 층\n",
    "dec_emb_layer = Embedding(tar_vocab, embedding_dim)\n",
    "dec_emb = dec_emb_layer(decoder_inputs)\n",
    "\n",
    "# 디코더의 LSTM\n",
    "# decoder_lstm = LSTM(hidden_size, return_sequences=True, return_state=True, dropout=0.4, recurrent_dropout=0.2)\n",
    "decoder_lstm = LSTM(hidden_size, return_sequences=True, return_state=True, dropout=0.4)\n",
    "decoder_outputs, _, _ = decoder_lstm(dec_emb, initial_state=[state_h3, state_c3])"
   ]
  },
  {
   "cell_type": "code",
   "execution_count": 56,
   "id": "30633e89",
   "metadata": {},
   "outputs": [
    {
     "name": "stdout",
     "output_type": "stream",
     "text": [
      "Model: \"model\"\n",
      "__________________________________________________________________________________________________\n",
      "Layer (type)                    Output Shape         Param #     Connected to                     \n",
      "==================================================================================================\n",
      "input_1 (InputLayer)            [(None, 50)]         0                                            \n",
      "__________________________________________________________________________________________________\n",
      "embedding (Embedding)           (None, 50, 128)      2816000     input_1[0][0]                    \n",
      "__________________________________________________________________________________________________\n",
      "lstm (LSTM)                     [(None, 50, 256), (N 394240      embedding[0][0]                  \n",
      "__________________________________________________________________________________________________\n",
      "input_2 (InputLayer)            [(None, None)]       0                                            \n",
      "__________________________________________________________________________________________________\n",
      "lstm_1 (LSTM)                   [(None, 50, 256), (N 525312      lstm[0][0]                       \n",
      "__________________________________________________________________________________________________\n",
      "embedding_1 (Embedding)         (None, None, 128)    1036800     input_2[0][0]                    \n",
      "__________________________________________________________________________________________________\n",
      "lstm_2 (LSTM)                   [(None, 50, 256), (N 525312      lstm_1[0][0]                     \n",
      "__________________________________________________________________________________________________\n",
      "lstm_3 (LSTM)                   [(None, None, 256),  394240      embedding_1[0][0]                \n",
      "                                                                 lstm_2[0][1]                     \n",
      "                                                                 lstm_2[0][2]                     \n",
      "__________________________________________________________________________________________________\n",
      "dense (Dense)                   (None, None, 8100)   2081700     lstm_3[0][0]                     \n",
      "==================================================================================================\n",
      "Total params: 7,773,604\n",
      "Trainable params: 7,773,604\n",
      "Non-trainable params: 0\n",
      "__________________________________________________________________________________________________\n"
     ]
    }
   ],
   "source": [
    "# 디코더의 출력층\n",
    "decoder_softmax_layer = Dense(tar_vocab, activation='softmax')\n",
    "decoder_softmax_outputs = decoder_softmax_layer(decoder_outputs) \n",
    "\n",
    "# 모델 정의\n",
    "model = Model([encoder_inputs, decoder_inputs], decoder_softmax_outputs)\n",
    "model.summary()"
   ]
  },
  {
   "cell_type": "markdown",
   "id": "696a4717",
   "metadata": {},
   "source": [
    "# 어텐션 메커니즘"
   ]
  },
  {
   "cell_type": "code",
   "execution_count": 57,
   "id": "6a8c3013",
   "metadata": {},
   "outputs": [
    {
     "name": "stdout",
     "output_type": "stream",
     "text": [
      "Model: \"model_1\"\n",
      "__________________________________________________________________________________________________\n",
      "Layer (type)                    Output Shape         Param #     Connected to                     \n",
      "==================================================================================================\n",
      "input_1 (InputLayer)            [(None, 50)]         0                                            \n",
      "__________________________________________________________________________________________________\n",
      "embedding (Embedding)           (None, 50, 128)      2816000     input_1[0][0]                    \n",
      "__________________________________________________________________________________________________\n",
      "lstm (LSTM)                     [(None, 50, 256), (N 394240      embedding[0][0]                  \n",
      "__________________________________________________________________________________________________\n",
      "input_2 (InputLayer)            [(None, None)]       0                                            \n",
      "__________________________________________________________________________________________________\n",
      "lstm_1 (LSTM)                   [(None, 50, 256), (N 525312      lstm[0][0]                       \n",
      "__________________________________________________________________________________________________\n",
      "embedding_1 (Embedding)         (None, None, 128)    1036800     input_2[0][0]                    \n",
      "__________________________________________________________________________________________________\n",
      "lstm_2 (LSTM)                   [(None, 50, 256), (N 525312      lstm_1[0][0]                     \n",
      "__________________________________________________________________________________________________\n",
      "lstm_3 (LSTM)                   [(None, None, 256),  394240      embedding_1[0][0]                \n",
      "                                                                 lstm_2[0][1]                     \n",
      "                                                                 lstm_2[0][2]                     \n",
      "__________________________________________________________________________________________________\n",
      "attention_layer (AdditiveAttent (None, None, 256)    256         lstm_3[0][0]                     \n",
      "                                                                 lstm_2[0][0]                     \n",
      "__________________________________________________________________________________________________\n",
      "concat_layer (Concatenate)      (None, None, 512)    0           lstm_3[0][0]                     \n",
      "                                                                 attention_layer[0][0]            \n",
      "__________________________________________________________________________________________________\n",
      "dense_1 (Dense)                 (None, None, 8100)   4155300     concat_layer[0][0]               \n",
      "==================================================================================================\n",
      "Total params: 9,847,460\n",
      "Trainable params: 9,847,460\n",
      "Non-trainable params: 0\n",
      "__________________________________________________________________________________________________\n"
     ]
    }
   ],
   "source": [
    "from tensorflow.keras.layers import AdditiveAttention\n",
    "\n",
    "# 어텐션 층(어텐션 함수)\n",
    "attn_layer = AdditiveAttention(name='attention_layer')\n",
    "\n",
    "# 인코더와 디코더의 모든 time step의 hidden state를 어텐션 층에 전달하고 결과를 리턴\n",
    "attn_out = attn_layer([decoder_outputs, encoder_output3])\n",
    "\n",
    "\n",
    "# 어텐션의 결과와 디코더의 hidden state들을 연결\n",
    "decoder_concat_input = Concatenate(axis=-1, name='concat_layer')([decoder_outputs, attn_out])\n",
    "\n",
    "# 디코더의 출력층\n",
    "decoder_softmax_layer = Dense(tar_vocab, activation='softmax')\n",
    "decoder_softmax_outputs = decoder_softmax_layer(decoder_concat_input)\n",
    "\n",
    "# 모델 정의\n",
    "model = Model([encoder_inputs, decoder_inputs], decoder_softmax_outputs)\n",
    "model.summary()"
   ]
  },
  {
   "cell_type": "code",
   "execution_count": 59,
   "id": "309051ba",
   "metadata": {},
   "outputs": [
    {
     "name": "stdout",
     "output_type": "stream",
     "text": [
      "Epoch 1/50\n",
      "308/308 [==============================] - 41s 115ms/step - loss: 3.9670 - val_loss: 3.7677\n",
      "Epoch 2/50\n",
      "308/308 [==============================] - 34s 111ms/step - loss: 3.6669 - val_loss: 3.5726\n",
      "Epoch 3/50\n",
      "308/308 [==============================] - 34s 111ms/step - loss: 3.4606 - val_loss: 3.4083\n",
      "Epoch 4/50\n",
      "308/308 [==============================] - 34s 111ms/step - loss: 3.2937 - val_loss: 3.2963\n",
      "Epoch 5/50\n",
      "308/308 [==============================] - 34s 111ms/step - loss: 3.1558 - val_loss: 3.2123\n",
      "Epoch 6/50\n",
      "308/308 [==============================] - 34s 111ms/step - loss: 3.0411 - val_loss: 3.1292\n",
      "Epoch 7/50\n",
      "308/308 [==============================] - 34s 111ms/step - loss: 2.9400 - val_loss: 3.0818\n",
      "Epoch 8/50\n",
      "308/308 [==============================] - 34s 111ms/step - loss: 2.8510 - val_loss: 3.0230\n",
      "Epoch 9/50\n",
      "308/308 [==============================] - 34s 111ms/step - loss: 2.7711 - val_loss: 2.9899\n",
      "Epoch 10/50\n",
      "308/308 [==============================] - 34s 111ms/step - loss: 2.7001 - val_loss: 2.9557\n",
      "Epoch 11/50\n",
      "308/308 [==============================] - 34s 111ms/step - loss: 2.6350 - val_loss: 2.9304\n",
      "Epoch 12/50\n",
      "308/308 [==============================] - 34s 111ms/step - loss: 2.5765 - val_loss: 2.9123\n",
      "Epoch 13/50\n",
      "308/308 [==============================] - 34s 111ms/step - loss: 2.5241 - val_loss: 2.8916\n",
      "Epoch 14/50\n",
      "308/308 [==============================] - 34s 111ms/step - loss: 2.4737 - val_loss: 2.8741\n",
      "Epoch 15/50\n",
      "308/308 [==============================] - 34s 111ms/step - loss: 2.4267 - val_loss: 2.8637\n",
      "Epoch 16/50\n",
      "308/308 [==============================] - 34s 111ms/step - loss: 2.3838 - val_loss: 2.8586\n",
      "Epoch 17/50\n",
      "308/308 [==============================] - 34s 111ms/step - loss: 2.3431 - val_loss: 2.8467\n",
      "Epoch 18/50\n",
      "308/308 [==============================] - 34s 111ms/step - loss: 2.3061 - val_loss: 2.8421\n",
      "Epoch 19/50\n",
      "308/308 [==============================] - 34s 111ms/step - loss: 2.2706 - val_loss: 2.8414\n",
      "Epoch 20/50\n",
      "308/308 [==============================] - 34s 111ms/step - loss: 2.2368 - val_loss: 2.8347\n",
      "Epoch 21/50\n",
      "308/308 [==============================] - 34s 111ms/step - loss: 2.2066 - val_loss: 2.8334\n",
      "Epoch 22/50\n",
      "308/308 [==============================] - 34s 111ms/step - loss: 2.1730 - val_loss: 2.8367\n",
      "Epoch 23/50\n",
      "308/308 [==============================] - 34s 111ms/step - loss: 2.1436 - val_loss: 2.8310\n",
      "Epoch 24/50\n",
      "308/308 [==============================] - 34s 111ms/step - loss: 2.1175 - val_loss: 2.8261\n",
      "Epoch 25/50\n",
      "308/308 [==============================] - 34s 111ms/step - loss: 2.0930 - val_loss: 2.8274\n",
      "Epoch 26/50\n",
      "308/308 [==============================] - 34s 111ms/step - loss: 2.0700 - val_loss: 2.8298\n",
      "Epoch 00026: early stopping\n"
     ]
    }
   ],
   "source": [
    "model.compile(optimizer='rmsprop', loss='sparse_categorical_crossentropy')\n",
    "es = EarlyStopping(monitor='val_loss', patience=2, verbose=1)\n",
    "history = model.fit(x=[encoder_input_train, decoder_input_train], y=decoder_target_train, \\\n",
    "          validation_data=([encoder_input_test, decoder_input_test], decoder_target_test), \\\n",
    "          batch_size=256, callbacks=[es], epochs=50)"
   ]
  },
  {
   "cell_type": "code",
   "execution_count": 60,
   "id": "712a11e6",
   "metadata": {},
   "outputs": [
    {
     "data": {
      "image/png": "[encoded data removed]",
      "text/plain": [
       "<Figure size 432x288 with 1 Axes>"
      ]
     },
     "metadata": {
      "needs_background": "light"
     },
     "output_type": "display_data"
    }
   ],
   "source": [
    "plt.plot(history.history['loss'], label='train')\n",
    "plt.plot(history.history['val_loss'], label='test')\n",
    "plt.legend()\n",
    "plt.show()"
   ]
  },
  {
   "cell_type": "code",
   "execution_count": 61,
   "id": "eb23285a",
   "metadata": {},
   "outputs": [
    {
     "name": "stdout",
     "output_type": "stream",
     "text": [
      "=3\n"
     ]
    }
   ],
   "source": [
    "src_index_to_word = src_tokenizer.index_word # 원문 단어 집합에서 정수 -> 단어를 얻음\n",
    "tar_word_to_index = tar_tokenizer.word_index # 요약 단어 집합에서 단어 -> 정수를 얻음\n",
    "tar_index_to_word = tar_tokenizer.index_word # 요약 단어 집합에서 정수 -> 단어를 얻음\n",
    "\n",
    "print('=3')"
   ]
  },
  {
   "cell_type": "code",
   "execution_count": 62,
   "id": "15ed4e31",
   "metadata": {},
   "outputs": [
    {
     "name": "stdout",
     "output_type": "stream",
     "text": [
      "=3\n"
     ]
    }
   ],
   "source": [
    "# 인코더 설계\n",
    "encoder_model = Model(inputs=encoder_inputs, outputs=[encoder_output3, state_h3, state_c3])\n",
    "\n",
    "# 이전 시점의 상태들을 저장하는 텐서\n",
    "decoder_state_input_h = Input(shape=(hidden_size,))\n",
    "decoder_state_input_c = Input(shape=(hidden_size,))\n",
    "\n",
    "dec_emb2 = dec_emb_layer(decoder_inputs)\n",
    "\n",
    "# 문장의 다음 단어를 예측하기 위해서 초기 상태(initial_state)를 이전 시점의 상태로 사용. 이는 뒤의 함수 decode_sequence()에 구현\n",
    "# 훈련 과정에서와 달리 LSTM의 리턴하는 은닉 상태와 셀 상태인 state_h와 state_c를 버리지 않음.\n",
    "decoder_outputs2, state_h2, state_c2 = decoder_lstm(dec_emb2, initial_state=[decoder_state_input_h, decoder_state_input_c])\n",
    "\n",
    "print('=3')"
   ]
  },
  {
   "cell_type": "code",
   "execution_count": 63,
   "id": "35bbb5d9",
   "metadata": {},
   "outputs": [
    {
     "name": "stdout",
     "output_type": "stream",
     "text": [
      "=3\n"
     ]
    }
   ],
   "source": [
    "# 어텐션 함수\n",
    "decoder_hidden_state_input = Input(shape=(text_max_len, hidden_size))\n",
    "attn_out_inf = attn_layer([decoder_outputs2, decoder_hidden_state_input])\n",
    "decoder_inf_concat = Concatenate(axis=-1, name='concat')([decoder_outputs2, attn_out_inf])\n",
    "\n",
    "# 디코더의 출력층\n",
    "decoder_outputs2 = decoder_softmax_layer(decoder_inf_concat) \n",
    "\n",
    "# 최종 디코더 모델\n",
    "decoder_model = Model(\n",
    "    [decoder_inputs] + [decoder_hidden_state_input,decoder_state_input_h, decoder_state_input_c],\n",
    "    [decoder_outputs2] + [state_h2, state_c2])\n",
    "\n",
    "print('=3')"
   ]
  },
  {
   "cell_type": "code",
   "execution_count": 64,
   "id": "8f9d2854",
   "metadata": {},
   "outputs": [
    {
     "name": "stdout",
     "output_type": "stream",
     "text": [
      "=3\n"
     ]
    }
   ],
   "source": [
    "def decode_sequence(input_seq):\n",
    "    # 입력으로부터 인코더의 상태를 얻음\n",
    "    e_out, e_h, e_c = encoder_model.predict(input_seq)\n",
    "\n",
    "     # <SOS>에 해당하는 토큰 생성\n",
    "    target_seq = np.zeros((1,1))\n",
    "    target_seq[0, 0] = tar_word_to_index['sostoken']\n",
    "\n",
    "    stop_condition = False\n",
    "    decoded_sentence = ''\n",
    "    while not stop_condition: # stop_condition이 True가 될 때까지 루프 반복\n",
    "\n",
    "        output_tokens, h, c = decoder_model.predict([target_seq] + [e_out, e_h, e_c])\n",
    "        sampled_token_index = np.argmax(output_tokens[0, -1, :])\n",
    "        sampled_token = tar_index_to_word[sampled_token_index]\n",
    "\n",
    "        if (sampled_token!='eostoken'):\n",
    "            decoded_sentence += ' '+sampled_token\n",
    "\n",
    "        #  <eos>에 도달하거나 최대 길이를 넘으면 중단.\n",
    "        if (sampled_token == 'eostoken'  or len(decoded_sentence.split()) >= (summary_max_len-1)):\n",
    "            stop_condition = True\n",
    "\n",
    "        # 길이가 1인 타겟 시퀀스를 업데이트\n",
    "        target_seq = np.zeros((1,1))\n",
    "        target_seq[0, 0] = sampled_token_index\n",
    "\n",
    "        # 상태를 업데이트 합니다.\n",
    "        e_h, e_c = h, c\n",
    "\n",
    "    return decoded_sentence\n",
    "print('=3')"
   ]
  },
  {
   "cell_type": "code",
   "execution_count": 65,
   "id": "4d106023",
   "metadata": {},
   "outputs": [
    {
     "name": "stdout",
     "output_type": "stream",
     "text": [
      "=3\n"
     ]
    }
   ],
   "source": [
    "# 원문의 정수 시퀀스를 텍스트 시퀀스로 변환\n",
    "def seq2text(input_seq):\n",
    "    temp=''\n",
    "    for i in input_seq:\n",
    "        if (i!=0):\n",
    "            temp = temp + src_index_to_word[i]+' '\n",
    "    return temp\n",
    "\n",
    "# 요약문의 정수 시퀀스를 텍스트 시퀀스로 변환\n",
    "def seq2summary(input_seq):\n",
    "    # [[YOUR CODE]]\n",
    "    temp=''\n",
    "    for i in input_seq:\n",
    "        if (i!=0):\n",
    "            temp = 'sostoken'+ temp + src_index_to_word[i]+'eostoken'\n",
    "    return temp\n",
    "print('=3')"
   ]
  },
  {
   "cell_type": "code",
   "execution_count": 66,
   "id": "b7d063da",
   "metadata": {},
   "outputs": [
    {
     "name": "stdout",
     "output_type": "stream",
     "text": [
      "원문 : bjp leader union minister anantkumar hegde wednesday said congress president rahul gandhi visit poll bound karnataka good entertainment added visits also help bjp grow stronger state calling gandhi karnataka cm siddaramaiah kota hegde said happy least started remembering hindus \n",
      "실제 요약 : sostokensostokensostokensostokensostokensostokensostokensostokensostokensaideostokentweetedeostokentraineostokenyeareostokenmaharashtraeostokenhusbandeostokenextremeeostokencompanyeostokenkilledeostoken\n",
      "예측 요약 :  rahul gandhi is not important for taka bjp leader\n",
      "\n",
      "\n",
      "원문 : islamic state claimed responsibility attack killed least christians injured others friday around gunmen dressed military uniform attacked vehicles carrying worshippers near southern city notably isis carried several attacks past targeting egypt \n",
      "실제 요약 : sostokensostokensostokensostokensostokensostokensostokensostokensostokensaideostokenclaimingeostokencityeostokenbandeostokenuseostokensoutheostokenfirsteostokenaddedeostokendanceeostoken\n",
      "예측 요약 :  killed injured in attack on afghan mosque in egypt\n",
      "\n",
      "\n",
      "원문 : reacting sexual harassment allegations filmmaker rajkumar hirani actress karishma tanna said cannot put false allegations immature heard news shocked upset actress added karishma acted rajkumar hirani directorial sanju said working outstanding experience \n",
      "실제 요약 : sostokensostokensostokensostokensostokensostokensostokensaideostokenyeareostokenpereostokenclosedeostokeneconomyeostokenaccusedeostokenequaleostoken\n",
      "예측 요약 :  hirani is not on sexual harassment allegations\n",
      "\n",
      "\n",
      "원문 : uttar pradesh police asked anti romeo squads take quiz order sensitise towards public around policemen took point test tactics involved questions like behave couples public places options like spot punishment force sit ups nothing \n",
      "실제 요약 : sostokensostokensostokensostokensostokensostokensostokensostokensostokensaideostokenyearseostokenpersoneostokennagpureostokenriderseostokenleasteostokenchoppereostokenyeareostokenmercedeseostoken\n",
      "예측 요약 :  up police to hold romeo squads for romeo squads\n",
      "\n",
      "\n",
      "원문 : british roger oscar best category film blade runner th academy awards nominated times previously blade runner also award best visual effects award show first oscar nomination film redemption \n",
      "실제 요약 : sostokensostokensostokensostokensostokensostokensostokensostokensostokensostokensaideostokenconstructedeostokenseeneostokencollapsedeostokenacteostokentwoeostokenlegeostokenforeigneostokenaddedeostokeninvesteostoken\n",
      "예측 요약 :  wins best oscar award at oscars\n",
      "\n",
      "\n",
      "원문 : spanish tennis star rafael nadal revealed feels heartbroken events surrounding catalan independence referendum home country way speak talk parties conflict try reach agreements current world number one said interview beijing ahead china open \n",
      "실제 요약 : sostokensostokensostokensostokensostokensostokensaideostokenbowlingeostokenministereostokenadministrativeeostokenirregularitieseostokensendingeostoken\n",
      "예측 요약 :  we fought for national anthem can be challenging ex prez\n",
      "\n",
      "\n",
      "원문 : man arrested us state florida possessing cocaine hidden inside cookie monster doll man arrested police officials searched car upon smelling marijuana found doll suspecting doll seemed heavier officials found packages inside contained cocaine \n",
      "실제 요약 : sostokensostokensostokensostokensostokensostokensostokensaideostokenregulatoryeostokengroupeostokentouristeostokenoperationseostokennseeostokenajinkyaeostoken\n",
      "예측 요약 :  man arrested for stealing kg of drugs in us\n",
      "\n",
      "\n",
      "원문 : asserting entitled luxury gujarat director general police pp pandey ordered removal air conditioners police stations across state order stated air conditioners added electricity bill also made officers avoid patrolling outdoor duties indoor comfort \n",
      "실제 요약 : sostokensostokensostokensostokensostokensostokensostokensostokensostokensaideostokenbusinesseostokenaiimseostokenpakistanieostokenrajkummareostokenalsoeostokenfilmeostokenwomaneostokentwiceeostoken\n",
      "예측 요약 :  gujarat airport to be shut for not nadu\n",
      "\n",
      "\n",
      "원문 : year old bengaluru man set mother ablaze denied giving money accused reportedly got heated argument mother money mother reportedly refused give money thinking would spend alcohol angered denial man threw petrol set ablaze \n",
      "실제 요약 : sostokensostokensostokensostokensostokensostokensostokensostokensostokensostokensostokensaideostokenplayereostokencourteostokenaheadeostokenfoodeostokentissueeostokentwoeostokenagoeostokeninjuredeostokeninternationaleostokenfirmeostoken\n",
      "예측 요약 :  man kills self after being forced to pay money\n",
      "\n",
      "\n",
      "원문 : according bloomberg taxi hailing platform uber head product daniel said startup started charging passengers others based predicts willing pay new system reportedly called route based pricing pricing system uber calculated fares using combination mileage time distance geographic demand \n",
      "실제 요약 : sostokensostokensostokensostokensostokensostokensostokensostokensostokensaideostokenwithouteostokenlookingeostokenpointeostokenfieldeostokenhouseeostokentwittereostokencrimeeostokencongresseostoken\n",
      "예측 요약 :  uber to pay uber to employees in next month\n",
      "\n",
      "\n",
      "원문 : india neeraj chopra gold medal javelin throw event asian games three days ago missed winning bronze medal diamond league margin metres chopra registered gold winning throw metres asian games registered throw metres diamond league \n",
      "실제 요약 : sostokensostokensostokensostokensostokensostokensostokensostokensostokensaideostokenconferenceeostokencompensationeostokensocietyeostokendeletedeostokenmassiveeostokenbrandeostokenratedeostokenoneeostoken\n",
      "예측 요약 :  india wins cwg gold silver at commonwealth games\n",
      "\n",
      "\n",
      "원문 : priyanka chopra talking experience working hollywood said huge stereotypes india hindi films west added stereotypes fight time guess come educating people see indian actors mainstream parts \n",
      "실제 요약 : sostokensostokensostokensostokensostokensostokensostokensostokensostokensostokensaideostokenleaderseostokenmumbaieostokentemperatureseostokenposteostokenpoliceeostokenaddedeostokencroreeostokenlankaeostokenattackeostoken\n",
      "예측 요약 :  priyanka is the best role in india priyanka\n",
      "\n",
      "\n",
      "원문 : us president donald trump watches television least four hours day sometimes even eight hours according reports trump wakes every day watches news channels like cnn fox reports added claimed trump fires tweets something someone sees sets \n",
      "실제 요약 : sostokensostokensostokensostokensostokensostokensostokensostokensostokensostokensostokensaideostokenoldeostokencricketeostokenreportseostokenprincesseostokencountrieseostokenuseostokenministereostokencommitteeeostokenoveralleostokenlakheostoken\n",
      "예측 요약 :  trump stops his news on trump tweets las vegas\n",
      "\n",
      "\n",
      "원문 : picture gallery shows former president dr apj abdul kalam pictures time indian space research organisation one pictures show former prime minister indira gandhi another shows team wearing colonel badge pokhran ii nuclear test site another picture taken visit us \n",
      "실제 요약 : sostokensostokensostokensostokensostokensostokensostokensostokensaideostokenterroreostokengiveneostokenjahaneostokenapplicantseostokenwiveseostokentechnologieseostokentogethereostoken\n",
      "예측 요약 :  ex prez pranab mukherjee shares picture with him\n",
      "\n",
      "\n",
      "원문 : carmaker fiat chrysler said knowledge regarding illness former ceo sergio swiss hospital said treating year family confirmed fiat told condition last week notified would return work passed away wednesday \n",
      "실제 요약 : sostokensostokensostokensostokensostokensostokensostokensostokensostokensostokensaideostokenofficialseostokenchiefeostokenappleeostokenmodieostokenposteostokenindustryeostokenmillioneostokenbillioneostokentipeostoken\n",
      "예측 요약 :  was not my last years away away away away away\n",
      "\n",
      "\n",
      "원문 : pakistan foreign minister khawaja asif thursday said kashmir rohingya issues among causes fractured world need addressed international level speaking world economic forum switzerland davos asif added initiatives including china pakistan economic corridor fractured region showed china commitment shared future \n",
      "실제 요약 : sostokensostokensostokensostokensostokensostokensostokensostokensaideostokennadueostokencristianoeostokenalsoeostokenlasteostokensinceeostokenindianeostokentoddlereostoken\n",
      "예측 요약 :  india will not allow people of india pak army\n",
      "\n",
      "\n",
      "원문 : actor ajay devgn took twitter share video announced debut marathi film manus translates person film also star nana patekar sumeet raghavan directed satish manus scheduled release february \n",
      "실제 요약 : sostokensostokensostokensostokensostokensostokensostokensostokensaideostokenprovidingeostokenbezoseostokenregisteredeostokenteameostokensrieostokenracisteostokenfridayeostoken\n",
      "예측 요약 :  ajay devgn shares his first look from upcoming film\n",
      "\n",
      "\n",
      "원문 : around muslims forced leave rajasthan village following threats upper caste hindus police said problems communities began folk singer allegedly killed upper caste hindus objecting muslims decision file fir murder hindus reportedly threatened kill forced leave \n",
      "실제 요약 : sostokensostokensostokensostokensostokensostokensostokensostokensostokensaideostokenbrokeneostokenmanohareostokenruleseostokenmedaleostokenyeareostokenbilleostokencallingeostokendeviceeostoken\n",
      "예측 요약 :  muslims killed in violence in bulandshahr violence\n",
      "\n",
      "\n",
      "원문 : madhya pradesh lost six wickets without adding run second innings ranji trophy match andhra getting reduced one stage six wickets fell within balls madhya pradesh gaurav yadav absent hurt andhra went win match runs \n",
      "실제 요약 : sostokensostokensostokensostokensostokensostokensostokensostokensostokensostokensostokensostokensaideostokencaptaineostokenpictureseostokencanadaeostokeneventeostokencustomseostokenshaheostokenreceivedeostokenfilmeostokenyeareostokenfollowingeostokenallegedlyeostoken\n",
      "예측 요약 :  mp hits wickets in overs in overs\n",
      "\n",
      "\n",
      "원문 : south korea fourth largest conglomerate lg announced appointment koo mo year old son family controlled conglomerate late chairman koo board member holding firm ceo mo currently holds stake holding firm become fourth generation leader family controlled conglomerate \n",
      "실제 요약 : sostokensostokensostokensostokensostokensostokensostokensostokensostokensostokensaideostokenfailseostokenlosseostokenclaimedeostokentimeeostokenrecordeostokenrestauranteostokenpresidenteostokenmaneostokenbillioneostoken\n",
      "예측 요약 :  xiaomi son to be part of china son\n",
      "\n",
      "\n",
      "원문 : calling west bengal cm mamata banerjee good administrator karnataka cm hd kumaraswamy said capabilities required lead country great job organising united india rally even requested left join added shows generosity tactics fighting bjp said \n",
      "실제 요약 : sostokensostokensostokensostokensostokensostokensostokensostokensostokensaideostokenbuyeostokencaseeostokenfollowingeostokenyeareostokencustomerseostokenplanseostokenmaharashtraeostokenlikeeostoken\n",
      "예측 요약 :  mamata banerjee will be mamata banerjee\n",
      "\n",
      "\n",
      "원문 : amid tensions two nations suspected chemical attack syria russia friday said us behaviour worthy status permanent member un security council us nations sovereignty using unsc justify actions russian envoy un said \n",
      "실제 요약 : sostokensostokensostokensostokensostokensostokensostokensaideostokenoldeostokenheadedeostokenalsoeostokenukraineeostokenjeteostokensocialeostoken\n",
      "예측 요약 :  us russia to stop syria from syria after years\n",
      "\n",
      "\n",
      "원문 : google co founders larry page sergey brin willing sell search engine million internet portal rejected offer currently market capitalisation google parent alphabet billion making one world valuable tech giants google incorporated years ago september \n",
      "실제 요약 : sostokensostokensostokensostokensostokensostokensostokensostokensostokensostokensostokensaideostokenusedeostokenofficereostokenlodgedeostokenversioneostokenyeareostokenroadeostokenshowseostokenuseostokenelectionseostokenaddedeostoken\n",
      "예측 요약 :  google founders founders worth billion in\n",
      "\n",
      "\n",
      "원문 : viral fever ceo arunabh kumar accused sexual harassment several women said people know year old received anticipatory bail monday fir registered mumbai interrogated eight times since case registered \n",
      "실제 요약 : sostokensostokensostokensostokensostokensostokensostokensostokensostokensostokensostokensostokensaideostokenoneeostokenpointeostokenmondayeostokenwednesdayeostokenpeopleeostokenappointedeostokentrumpeostokensideeostokenmumbaieostokenmeasuredeostokenbillioneostoken\n",
      "예측 요약 :  tvf founder accused of sexual harassment\n",
      "\n",
      "\n",
      "원문 : industries pay minimum wages workers right continue delhi high court said added non payment minimum wages court made observations allowing plea gardener employer central secretariat club issue non payment wages \n",
      "실제 요약 : sostokensostokensostokensostokensostokensostokensostokensostokensostokensaideostokensectorseostokenpeopleeostokenolympicseostokenrakesheostokenprotectingeostokenkumareostokenregulatoreostokentheostoken\n",
      "예측 요약 :  no dues in ayodhya case not not pay for it sc\n",
      "\n",
      "\n",
      "원문 : man fined lakh asked pay mehr divorcing wife triple talaq groom divorced wife june family approached panchayat decision given wife favour dowry also returned \n",
      "실제 요약 : sostokensostokensostokensostokensostokensostokensostokensostokensostokensostokensostokensostokensaideostokencourteostokenfelleostokenvideoeostokenaddedeostokenyearseostokenuseostokenrailwayseostokenhandeostokenstarseostokenyeareostokenmediaeostoken\n",
      "예측 요약 :  woman fined for lakh for wife wife she wife wife\n",
      "\n",
      "\n",
      "원문 : airasia india appointed indigo former chief commercial officer sanjay kumar chief operating officer effect december kumar years experience aviation industry left indigo july associated airline nearly years airasia india joint venture malaysia airasia tata sons \n",
      "실제 요약 : sostokensostokensostokensostokensostokensostokensostokensostokensostokensostokensostokensaideostokenrequiredeostokenmillioneostokensundayeostokenyemeneostokenamazoneostokensistereostokenmeghaneostokenpoliceeostokenpresidenteostokenparrikareostoken\n",
      "예측 요약 :  air india chief secretary resigns from\n",
      "\n",
      "\n",
      "원문 : voting first phase municipal elections held years began monday amid threats terrorists major regional parties national conference pdp boycotting elections alleging uncertainty centre stance article candidates allowed openly campaign kept secure accommodations \n",
      "실제 요약 : sostokensostokensostokensostokensostokensostokensostokensostokensostokensostokensaideostokencomputereostokenpictureeostokensuggestedeostokenaddedeostokentwoeostokenchinaeostokendirectedeostokenplatformeostokenstoleneostoken\n",
      "예측 요약 :  voter turnout recorded in st phase of polls\n",
      "\n",
      "\n",
      "원문 : video emerged man refused put cigarette gas station sprayed fire extinguisher employee foam covered car man driving occupants forced get incident believed taken place bulgarian capital sofia \n",
      "실제 요약 : sostokensostokensostokensostokensostokensostokensostokensostokensaideostokencourteostokenownerseostokenindianeostokenprogrameostokendecidedeostokengovernmenteostokenwineostoken\n",
      "예측 요약 :  man falls off car into door to escape traffic\n",
      "\n",
      "\n",
      "원문 : supreme court imposed fine lakh states union territory complying order widow welfare states directed provide information centre steps taken rehabilitate widows assam gujarat uttarakhand among states fined apart ut nagar haveli \n",
      "실제 요약 : sostokensostokensostokensostokensostokensostokensostokensostokensostokensaideostokenaroundeostokenbansaleostokenkmeostokenuseostokenpeopleeostokencongratulatedeostokenhireeostokenfootballeostoken\n",
      "예측 요약 :  sc allows govt to pay lakh for giving liquor to\n",
      "\n",
      "\n",
      "원문 : facebook ceo mark zuckerberg sister zuckerberg alleged sexually harassed male passenger alaska airlines flight said passenger made offensive sexual comments airline employees take action frequent crew continued serve alcoholic drinks telling take personally \n",
      "실제 요약 : sostokensostokensostokensostokensostokensostokensostokensostokensostokensaideostokenwebsiteeostokenselleostokenrelianceeostokenclimateeostokenopeneostokendecembereostokenfirsteostokentimeseostoken\n",
      "예측 요약 :  facebook ceo slams zuckerberg for sexually assaulting her\n",
      "\n",
      "\n",
      "원문 : google tracks users location even turned location history android ios devices according associated press stop google users need turn location history option web app activity tab settings recorded activity also deleted google activity panel \n",
      "실제 요약 : sostokensostokensostokensostokensostokensostokensostokensostokensostokensostokensostokensaideostokenlaunchedeostokenyeareostokenisiseostokenceoeostokenusedeostokenlaideostokenwinseostokenfirsteostokenlocaleostokenshoteostoken\n",
      "예측 요약 :  google pixel xl users location location\n",
      "\n",
      "\n",
      "원문 : union minister maneka gandhi written bollywood filmmakers including shah rukh khan aamir khan asking comply sexual harassment women workplace act filmmakers legally accountable safety employees letter read production houses must set internal complaint cells immediate effect stated \n",
      "실제 요약 : sostokensostokensostokensostokensostokensostokensostokensostokensostokensaideostokengovernmenteostokenopeneostokendecembereostokentendulkareostokenneweostokenyeareostokenshowingeostokensubjectseostoken\n",
      "예측 요약 :  metoo case filed against srk for remark on metoo\n",
      "\n",
      "\n",
      "원문 : former iraqi dictator saddam hussein captured us forces december spending nine months run us march led invasion force iraq topple saddam government controlled country years executed december joint iraqi american military base \n",
      "실제 요약 : sostokensostokensostokensostokensostokensostokensostokensaideostokendiscounteostokeninstituteseostokenthreeeostokenpoisoneostokenpartyeostokenmadhyaeostoken\n",
      "예측 요약 :  iraq declares us troops in iraq\n",
      "\n",
      "\n",
      "원문 : myanmar leader aung san suu kyi said government could handled better situation rakhine state led forced displacement rohingya muslims however added long term security stability fair sides cannot choose protected rule law \n",
      "실제 요약 : sostokensostokensostokensostokensostokensostokensostokensostokensostokensostokensaideostokencleaneostokencitingeostokengoodeostokenpakistaneostokenwhiteeostokenarrangeeostokengovernoreostokenconvincedeostokenchequeeostoken\n",
      "예측 요약 :  rohingya crisis not rohingya crisis crisis\n",
      "\n",
      "\n",
      "원문 : reports emerged isis confirmed death leader abu bakr al baghdadi us military coalition advised militant group implement strong line succession added extremists need reports baghdadi death emerged russia claimed killed air strike syria raqqa may \n",
      "실제 요약 : sostokensostokensostokensostokensostokensostokensostokensostokensostokensostokensostokensostokensaideostokenoldeostokenserieseostokenclaimingeostokenyeareostokenthursdayeostokenideaseostokenhopefullyeostokentwoeostokenkilledeostokentakeeostokencongresseostoken\n",
      "예측 요약 :  isis claims isis attack civilians in afghanistan\n",
      "\n",
      "\n",
      "원문 : telangana chief electoral officer dr rajat kumar called tobacco free polling stations upcoming assembly elections instructed district collectors district election officers ensure polling stations respective areas tobacco free authorities asked paste smoking area stickers inside outside booths \n",
      "실제 요약 : sostokensostokensostokensostokensostokensostokensostokensostokensostokensostokensaideostokenacquisitioneostokenhappyeostokenamazoneostokenseveraleostokenuseostokenclosureeostokendistricteostokengreeceeostokentwiceeostoken\n",
      "예측 요약 :  gana polls to get gana polls from telangana polls\n",
      "\n",
      "\n",
      "원문 : vicky kaushal said brother sunny kaushal knew bollywood la la land father action director sham kaushal shared moments humiliation struggle demands lot hard work sacrifice expect reward vicky added \n",
      "실제 요약 : sostokensostokensostokensostokensostokensostokensostokensostokensostokensostokensostokensostokensaideostokenpaideostokenshiveostokenuttarakhandeostokenshowingeostokenthreeeostokenpeopleeostokenpointeostokenspacecrafteostokenspacecrafteostokenreturneostokenchouhaneostoken\n",
      "예측 요약 :  my career was not my career for my life vicky\n",
      "\n",
      "\n",
      "원문 : manika batra become first ever indian woman bag gold women table tennis singles event commonwealth games history year old delhi defeated singapore yu final saturday bag third medal cwg manika earlier women team gold women doubles silver games \n",
      "실제 요약 : sostokensostokensostokensostokensostokensostokensostokensostokensostokensostokensostokensaideostokendesaieostokendayeostokenformereostokencountryeostokenyeareostokenmatcheostokeneuropeaneostokenwheelerseostokenholdingseostokenbesteostoken\n",
      "예측 요약 :  india st cwg gold winner wins gold at cwg\n",
      "\n",
      "\n",
      "원문 : us president donald trump said iran pay price like countries ever paid threatens us way comes iran foreign minister mohammad zarif threatened quit nuclear deal us withdraws trump may deadline decide whether keep us agreement \n",
      "실제 요약 : sostokensostokensostokensostokensostokensostokensostokensostokensostokensostokensostokensaideostokenalongeostokenwouldeostokenuttareostokensignedeostokennationaleostokenoldeostokenworldeostokenturkisheostokentreatmenteostokenreportseostoken\n",
      "예측 요약 :  trump sanctions on iran nuclear deal with us\n",
      "\n",
      "\n",
      "원문 : cambridge university led study discovered gas earliest galaxies formed soon big bang using chile based telescopes astronomers probed star forming galaxies appeared billion years ago found spun like like milky way light distant objects allows astronomers understand history universe \n",
      "실제 요약 : sostokensostokensostokensostokensostokensostokensostokensaideostokenwaiteostokenmeanteostokendooreostokenaddedeostokengoldmaneostokenerrorseostoken\n",
      "예측 요약 :  astronomers find black star in universe\n",
      "\n",
      "\n",
      "원문 : singer shaan attacked stones sang bengali song concert assam monday singer told crowd please respect performer eventually walked stage crowd refused calm later tweeted one unfortunate incident would wrong tarnish beautiful state \n",
      "실제 요약 : sostokensostokensostokensostokensostokensostokensostokensostokensostokensostokensostokensaideostokenspectatorseostokengovernmenteostokenangryeostokenuseostokenbabaeostokenslaughtereostokendangerouseostokenindianeostokennasaeostokenappseostoken\n",
      "예측 요약 :  singer apologises for throwing beef in song\n",
      "\n",
      "\n",
      "원문 : warning new us sanctions senior figures regime deliberate provocation north korea said us bent bringing relations back status last year marked exchanges fire added us decision impose sanctions could block path denuclearisation korean peninsula forever \n",
      "실제 요약 : sostokensostokensostokensostokensostokensostokensostokensostokensostokensostokensaideostokenmayeostokencommunityeostokenawardeostokenyeareostokenalsoeostokenwineostokenministereostokenoldeostokenintervieweostoken\n",
      "예측 요약 :  us sanctions on north korea sanctions us\n",
      "\n",
      "\n",
      "원문 : spacex tesla founder elon musk saturday shared childhood picture years old picture musk seen holding hammer joked gonna dig tunnel hammer referring new startup boring company underground tunnels let vehicles avoid traffic \n",
      "실제 요약 : sostokensostokensostokensostokensostokensostokensostokensostokensostokensostokensostokensaideostokencharactereostokentopeostokenfamilyeostokenteameostokenhaasaneostokenterroreostokenalsoeostokensystemeostokennotablyeostokenthreeeostoken\n",
      "예측 요약 :  elon musk shares video of his father amber\n",
      "\n",
      "\n",
      "원문 : speaking world economic forum alibaba founder jack part secret sauce company success many women colleagues year old said women sacrifice love continue added alibaba women care others much men \n",
      "실제 요약 : sostokensostokensostokensostokensostokensostokensostokensostokensostokensostokensaideostokenavoideostokenalsoeostokenconstableeostokenworldeostokencouldeostokenparteostokenpakistaneostokencomeseostokencommissionereostoken\n",
      "예측 요약 :  women is not founder of women co founder\n",
      "\n",
      "\n",
      "원문 : least people killed others injured suicide bomber blew front polling station afghanistan capital kabul saturday officials said people lined vote afghanistan first parliamentary elections since group yet claimed responsibility attack \n",
      "실제 요약 : sostokensostokensostokensostokensostokensostokensostokensostokensostokensaideostokentesteostokenaddedeostokenspaceeostokensoutheostokenindianeostokenbrothereostokengreeceeostokendecidedeostoken\n",
      "예측 요약 :  killed injured in suicide bombing in kabul\n",
      "\n",
      "\n",
      "원문 : municipal corporation gurugram thursday sealed shops building sector owners reportedly pay property tax despite tax defaulters issued multiple notices many failed pay sealing serves warning auctioning said official mcg expected auction properties august \n",
      "실제 요약 : sostokensostokensostokensostokensostokensostokensostokensostokensostokensostokensostokensaideostokenneweostokenpictureeostokensyedeostokenturkeyeostokenministereostokenmideostokenknowneostokenhelpingeostokenaddedeostokenturnedeostoken\n",
      "예측 요약 :  luru civic body to pay tax to protest against dues\n",
      "\n",
      "\n",
      "원문 : northern railways planning use whatsapp groups supervised senior officials monitor cleanliness trains departments post status report daily basis separate whatsapp groups northern railways also get crore automatic coach washing plant capable washing coach train within eight minutes \n",
      "실제 요약 : sostokensostokensostokensostokensostokensostokensostokensostokensostokensaideostokenviceeostokenyeareostokentweetingeostokenukeostokenromanticeostokenmakingeostokensenioreostokengifteostoken\n",
      "예측 요약 :  railways to get sanitary pad cards from\n",
      "\n",
      "\n",
      "원문 : egyptian forward mohamed salah premier league top scorer goals opened scoring liverpool opening match season west ham sunday salah goal followed forward man brace daniel made scoring th minute seconds coming salah \n",
      "실제 요약 : sostokensostokensostokensostokensostokensostokensostokensostokensostokensostokensaideostokenmanyeostokentenniseostokenreleaseeostokenmahaleostokensafetyeostokencustomseostokenpresidenteostokenpauleostokenmatcheostoken\n",
      "예측 요약 :  man city record goals in pl season\n",
      "\n",
      "\n",
      "원문 : per reports john abraham opted upcoming thriller romeo akbar walter john reportedly felt film storyline similar alia bhatt raazi watched film trailer convinced earlier sushant singh rajput replaced john film \n",
      "실제 요약 : sostokensostokensostokensostokensostokensostokensostokensostokensaideostokennneostokenakeostokenallegedlyeostokenalsoeostokennagpureostokencbseeostokenlakheostoken\n",
      "예측 요약 :  john to play villain in upcoming film reports\n",
      "\n",
      "\n"
     ]
    }
   ],
   "source": [
    "for i in range(50, 100):\n",
    "    print(\"원문 :\", seq2text(encoder_input_test[i]))\n",
    "    print(\"실제 요약 :\", seq2summary(decoder_input_test[i]))\n",
    "    print(\"예측 요약 :\", decode_sequence(encoder_input_test[i].reshape(1, text_max_len)))\n",
    "    print(\"\\n\")"
   ]
  },
  {
   "cell_type": "markdown",
   "id": "888fed56",
   "metadata": {},
   "source": [
    "# 추출적 요약 해보기"
   ]
  },
  {
   "cell_type": "markdown",
   "id": "265db2b3",
   "metadata": {},
   "source": [
    "text 데이터 가져오기"
   ]
  },
  {
   "cell_type": "code",
   "execution_count": 71,
   "id": "a4ad8d61",
   "metadata": {},
   "outputs": [],
   "source": [
    "from summa.summarizer import summarize\n",
    "\n",
    "urllib.request.urlretrieve(\"https://raw.githubusercontent.com/sunnysai12345/News_Summary/master/news_summary_more.csv\", filename=\"news_summary_more.csv\")\n",
    "data = pd.read_csv('news_summary_more.csv', encoding='iso-8859-1')"
   ]
  },
  {
   "cell_type": "code",
   "execution_count": 72,
   "id": "5523c294",
   "metadata": {
    "scrolled": true
   },
   "outputs": [
    {
     "name": "stdout",
     "output_type": "stream",
     "text": [
      "The screen is filled with green, cascading code which gives way to the title, The Matrix.\r\n",
      "\r\n",
      "A phone rings and text appears on the screen: \"Call trans opt: received. 2-19-98 13:24:18 REC: Log>\" As a conversation takes place between Trinity (Carrie-Anne Moss) and Cypher (Joe Pantoliano), two free humans, a table of random green numbers are being scanned and individual numbers selected, creating a series of digits not unlike an ordinary phone number, as if a code is being deciphered or a call is being traced.\r\n",
      "\r\n",
      "Trinity discusses some unknown person. Cypher taunts Trinity, suggesting she enjoys watching him. Trinity counters that \"Morpheus (Laurence Fishburne) says he may be 'the One',\" just as the sound of a number being selected alerts Trinity that someone may be tracing their call. She ends the call.\r\n",
      "\r\n",
      "Armed policemen move down a darkened, decrepit hallway in the Heart O' the City Hotel, their flashlight beam bouncing just ahead of them. They come to room 303, kick down the door and \n"
     ]
    }
   ],
   "source": [
    "print(text[:1000])"
   ]
  },
  {
   "cell_type": "markdown",
   "id": "d84f0711",
   "metadata": {},
   "source": [
    "# summarize를 사용한 추출적 요약 함수"
   ]
  },
  {
   "cell_type": "code",
   "execution_count": 73,
   "id": "9acedd1d",
   "metadata": {},
   "outputs": [],
   "source": [
    "def pred_summarize_ratio(data, strt_num = 10, end_num= 20, ratio = 0.2):\n",
    "    '''\n",
    "    Args:\n",
    "        text (str) : 요약할 테스트.\n",
    "        ratio (float, optional) – 요약문에서 원본에서 선택되는 문장 비율. 0~1 사이값\n",
    "        words (int or None, optional) – 출력에 포함할 단어 수.\n",
    "        만약, ratio와 함께 두 파라미터가 모두 제공되는 경우 ratio는 무시한다.\n",
    "        split (bool, optional) – True면 문장 list / False는 조인(join)된 문자열을 반환\n",
    "    '''\n",
    "    \n",
    "    for i in range(strt_num, end_num):\n",
    "        print(\">>> 원문 :\", data['text'][i])\n",
    "        print(\">>> 실제 헤드라인 :\", data['headlines'][i])\n",
    "        print(\">>> 예측 헤드라인 :\", summarize(data['text'][i], ratio=ratio))\n",
    "        print(\"\\n\")\n",
    "        \n",
    "def pred_summarize_word(data, strt_num = 10, end_num= 20, words = 30):\n",
    "    \n",
    "    for i in range(strt_num, end_num):\n",
    "        print(\">>> 원문 :\", data['text'][i])\n",
    "        print(\">>> 실제 헤드라인 :\", data['headlines'][i])\n",
    "        print(\">>> 예측 헤드라인 :\", summarize(data['text'][i], words=words))\n",
    "        print(\"\\n\")"
   ]
  },
  {
   "cell_type": "code",
   "execution_count": 74,
   "id": "73c1e4d4",
   "metadata": {},
   "outputs": [
    {
     "name": "stdout",
     "output_type": "stream",
     "text": [
      ">>> 원문 : Two minor cousins in Uttar Pradesh's Gorakhpur were allegedly repeatedly burnt with tongs and forced to eat human excreta by their family for being friends with two boys from the same school. The cousins revealed their ordeal to the police and Child Welfare Committee after being brought back to Gorakhpur from Nepal, where they had fled to escape the torture.\n",
      ">>> 실제 헤드라인 : UP cousins fed human excreta for friendship with boys\n",
      ">>> 예측 헤드라인 : Two minor cousins in Uttar Pradesh's Gorakhpur were allegedly repeatedly burnt with tongs and forced to eat human excreta by their family for being friends with two boys from the same school.\n",
      "\n",
      "\n",
      ">>> 원문 : Isha Ghosh, an 81-year-old member of Bharat Scouts and Guides (BSG), has been imparting physical and mental training to schoolchildren in Jharkhand for several decades. Chaibasa-based Ghosh reportedly walks seven kilometres daily and spends eight hours conducting physical training, apart from climbing and yoga sessions. She says, \"One should do something for society till one's last breath.\"\n",
      ">>> 실제 헤드라인 : 81-yr-old woman conducts physical training in J'khand schools\n",
      ">>> 예측 헤드라인 : Isha Ghosh, an 81-year-old member of Bharat Scouts and Guides (BSG), has been imparting physical and mental training to schoolchildren in Jharkhand for several decades.\n",
      "\n",
      "\n",
      ">>> 원문 : Urging saints and seers at the Kumbh Mela to quit smoking, Yoga guru Ramdev said, \"We follow Ram and Krishna who never smoked in their life then why should we?\" Making them take a pledge to quit tobacco, he collected chillum (clay pipe) from several sadhus. He said he will deposit the chillums for display at a museum he'll build.\n",
      ">>> 실제 헤드라인 : Ram, Krishna didn't smoke, why should we: Ramdev to sadhus at Kumbh\n",
      ">>> 예측 헤드라인 : Urging saints and seers at the Kumbh Mela to quit smoking, Yoga guru Ramdev said, \"We follow Ram and Krishna who never smoked in their life then why should we?\" Making them take a pledge to quit tobacco, he collected chillum (clay pipe) from several sadhus.\n",
      "\n",
      "\n",
      ">>> 원문 : Former stripper and regional sales director of a pharmaceutical company, Sunrise Lee, gave a doctor a lap dance in a nightclub to persuade him to prescribe an addictive fentanyl spray in 2012, the company's sales representative told a US court. She said she saw Lee \"sitting on [doctor's] lap, kind of bouncing around.\" Lee has been accused of bribing doctors.\n",
      ">>> 실제 헤드라인 : Pharma exec gave doctor a lap dance to sell medicine in US: Witness\n",
      ">>> 예측 헤드라인 : Former stripper and regional sales director of a pharmaceutical company, Sunrise Lee, gave a doctor a lap dance in a nightclub to persuade him to prescribe an addictive fentanyl spray in 2012, the company's sales representative told a US court.\n",
      "\n",
      "\n",
      ">>> 원문 : Reliance Industries' Chairman Mukesh Ambani's daughter Isha Ambani, who got married last month, said she only cried at her 'bidaai' because she felt peer pressure as everyone was crying, especially her parents. \"I was emotional too but everyone around me would cry all the time,\" she added. \"It was a very emotional affair for everyone in my family,\" said Isha.\n",
      ">>> 실제 헤드라인 :  I only cried at my 'bidaai' as I felt peer pressure: Isha Ambani\n",
      ">>> 예측 헤드라인 : \"It was a very emotional affair for everyone in my family,\" said Isha.\n",
      "\n",
      "\n",
      ">>> 원문 : Louis Vuitton owner LVMH, which makes high-end beverages like MoÃÂ«t & Chandon champagne and Hennessy cognac, said it's stockpiling four months' worth of wine and spirits in UK in preparation for Brexit. \"We're ready for worst case scenario if there are difficulties with deliveries,\" the French luxury giant said. The UK is scheduled to leave the EU on March 29.\n",
      ">>> 실제 헤드라인 : Louis Vuitton owner to stockpile 4 months of wine, spirits in UK\n",
      ">>> 예측 헤드라인 : Louis Vuitton owner LVMH, which makes high-end beverages like MoÃÂ«t & Chandon champagne and Hennessy cognac, said it's stockpiling four months' worth of wine and spirits in UK in preparation for Brexit.\n",
      "\n",
      "\n",
      ">>> 원문 : Filmmaker Karan Johar and actress Tabu turned showstoppers for Gaurav Gupta on the opening night of LakmÃÂ© Fashion Week Summer/ Resort 2019. While Johar wore a red sequinned jacket with black pants, Tabu walked the ramp in a grey embellished gown. The fashion show, which began on January 29, will continue till February 3.\n",
      ">>> 실제 헤드라인 : Karan Johar, Tabu turn showstoppers on opening night of LFW\n",
      ">>> 예측 헤드라인 : Filmmaker Karan Johar and actress Tabu turned showstoppers for Gaurav Gupta on the opening night of LakmÃÂ© Fashion Week Summer/ Resort 2019.\n",
      "\n",
      "\n",
      ">>> 원문 : In a jibe at Congress President Rahul Gandhi, PM Narendra Modi on Wednesday said those on \"bail will have to go to jail.\" PM Modi added, \"He is out on bail and his associates too are facing charges...I know they will be convicted one day.\" The PM claimed he'd waged a war on corruption because he's from a common household. \n",
      ">>> 실제 헤드라인 : Those on bail will go to jail: PM Modi takes jibe at Rahul\n",
      ">>> 예측 헤드라인 : \n",
      "\n",
      "\n",
      ">>> 원문 : Days after he threatened to step down from his post if Congress MLAs continue \"crossing the line,\" Karnataka Chief Minister HD Kumaraswamy accused them of taking potshots and asked, \"How many more days can I tolerate such stuff?\" Kumaraswamy, who made the statements after a Congress MLA demanded that Siddaramaiah be made CM again, said, \"Power is ephemeral.\"\n",
      ">>> 실제 헤드라인 : How long can I tolerate Congress leaders' potshots: K'taka CM\n",
      ">>> 예측 헤드라인 : \n",
      "\n",
      "\n",
      ">>> 원문 : Union Minister Dharmendra Pradhan on Wednesday claimed the illegal mining mafia in Odisha operates under the control of CM Naveen Patnaik and state Congress chief Niranjan Patnaik. He added, \"The time has come for the people of Odisha to put a full stop to their activities...The time has come for us to ask for an explanation from this corrupt government.\"\n",
      ">>> 실제 헤드라인 : Odisha CM Patnaik controls mining mafia: Union Minister\n",
      ">>> 예측 헤드라인 : Union Minister Dharmendra Pradhan on Wednesday claimed the illegal mining mafia in Odisha operates under the control of CM Naveen Patnaik and state Congress chief Niranjan Patnaik.\n",
      "\n",
      "\n"
     ]
    }
   ],
   "source": [
    "RATIO = 0.5\n",
    "\n",
    "pred_summarize_ratio(data, 10, 20, RATIO)"
   ]
  },
  {
   "cell_type": "code",
   "execution_count": 75,
   "id": "d6090f08",
   "metadata": {},
   "outputs": [
    {
     "name": "stdout",
     "output_type": "stream",
     "text": [
      ">>> 원문 : Two minor cousins in Uttar Pradesh's Gorakhpur were allegedly repeatedly burnt with tongs and forced to eat human excreta by their family for being friends with two boys from the same school. The cousins revealed their ordeal to the police and Child Welfare Committee after being brought back to Gorakhpur from Nepal, where they had fled to escape the torture.\n",
      ">>> 실제 헤드라인 : UP cousins fed human excreta for friendship with boys\n",
      ">>> 예측 헤드라인 : \n",
      "\n",
      "\n",
      ">>> 원문 : Isha Ghosh, an 81-year-old member of Bharat Scouts and Guides (BSG), has been imparting physical and mental training to schoolchildren in Jharkhand for several decades. Chaibasa-based Ghosh reportedly walks seven kilometres daily and spends eight hours conducting physical training, apart from climbing and yoga sessions. She says, \"One should do something for society till one's last breath.\"\n",
      ">>> 실제 헤드라인 : 81-yr-old woman conducts physical training in J'khand schools\n",
      ">>> 예측 헤드라인 : Isha Ghosh, an 81-year-old member of Bharat Scouts and Guides (BSG), has been imparting physical and mental training to schoolchildren in Jharkhand for several decades.\n",
      "\n",
      "\n",
      ">>> 원문 : Urging saints and seers at the Kumbh Mela to quit smoking, Yoga guru Ramdev said, \"We follow Ram and Krishna who never smoked in their life then why should we?\" Making them take a pledge to quit tobacco, he collected chillum (clay pipe) from several sadhus. He said he will deposit the chillums for display at a museum he'll build.\n",
      ">>> 실제 헤드라인 : Ram, Krishna didn't smoke, why should we: Ramdev to sadhus at Kumbh\n",
      ">>> 예측 헤드라인 : \n",
      "\n",
      "\n",
      ">>> 원문 : Former stripper and regional sales director of a pharmaceutical company, Sunrise Lee, gave a doctor a lap dance in a nightclub to persuade him to prescribe an addictive fentanyl spray in 2012, the company's sales representative told a US court. She said she saw Lee \"sitting on [doctor's] lap, kind of bouncing around.\" Lee has been accused of bribing doctors.\n",
      ">>> 실제 헤드라인 : Pharma exec gave doctor a lap dance to sell medicine in US: Witness\n",
      ">>> 예측 헤드라인 : \n",
      "\n",
      "\n",
      ">>> 원문 : Reliance Industries' Chairman Mukesh Ambani's daughter Isha Ambani, who got married last month, said she only cried at her 'bidaai' because she felt peer pressure as everyone was crying, especially her parents. \"I was emotional too but everyone around me would cry all the time,\" she added. \"It was a very emotional affair for everyone in my family,\" said Isha.\n",
      ">>> 실제 헤드라인 :  I only cried at my 'bidaai' as I felt peer pressure: Isha Ambani\n",
      ">>> 예측 헤드라인 : \"It was a very emotional affair for everyone in my family,\" said Isha.\n",
      "\n",
      "\n",
      ">>> 원문 : Louis Vuitton owner LVMH, which makes high-end beverages like MoÃÂ«t & Chandon champagne and Hennessy cognac, said it's stockpiling four months' worth of wine and spirits in UK in preparation for Brexit. \"We're ready for worst case scenario if there are difficulties with deliveries,\" the French luxury giant said. The UK is scheduled to leave the EU on March 29.\n",
      ">>> 실제 헤드라인 : Louis Vuitton owner to stockpile 4 months of wine, spirits in UK\n",
      ">>> 예측 헤드라인 : \n",
      "\n",
      "\n",
      ">>> 원문 : Filmmaker Karan Johar and actress Tabu turned showstoppers for Gaurav Gupta on the opening night of LakmÃÂ© Fashion Week Summer/ Resort 2019. While Johar wore a red sequinned jacket with black pants, Tabu walked the ramp in a grey embellished gown. The fashion show, which began on January 29, will continue till February 3.\n",
      ">>> 실제 헤드라인 : Karan Johar, Tabu turn showstoppers on opening night of LFW\n",
      ">>> 예측 헤드라인 : Filmmaker Karan Johar and actress Tabu turned showstoppers for Gaurav Gupta on the opening night of LakmÃÂ© Fashion Week Summer/ Resort 2019.\n",
      "\n",
      "\n",
      ">>> 원문 : In a jibe at Congress President Rahul Gandhi, PM Narendra Modi on Wednesday said those on \"bail will have to go to jail.\" PM Modi added, \"He is out on bail and his associates too are facing charges...I know they will be convicted one day.\" The PM claimed he'd waged a war on corruption because he's from a common household. \n",
      ">>> 실제 헤드라인 : Those on bail will go to jail: PM Modi takes jibe at Rahul\n",
      ">>> 예측 헤드라인 : \n",
      "\n",
      "\n",
      ">>> 원문 : Days after he threatened to step down from his post if Congress MLAs continue \"crossing the line,\" Karnataka Chief Minister HD Kumaraswamy accused them of taking potshots and asked, \"How many more days can I tolerate such stuff?\" Kumaraswamy, who made the statements after a Congress MLA demanded that Siddaramaiah be made CM again, said, \"Power is ephemeral.\"\n",
      ">>> 실제 헤드라인 : How long can I tolerate Congress leaders' potshots: K'taka CM\n",
      ">>> 예측 헤드라인 : \n",
      "\n",
      "\n",
      ">>> 원문 : Union Minister Dharmendra Pradhan on Wednesday claimed the illegal mining mafia in Odisha operates under the control of CM Naveen Patnaik and state Congress chief Niranjan Patnaik. He added, \"The time has come for the people of Odisha to put a full stop to their activities...The time has come for us to ask for an explanation from this corrupt government.\"\n",
      ">>> 실제 헤드라인 : Odisha CM Patnaik controls mining mafia: Union Minister\n",
      ">>> 예측 헤드라인 : Union Minister Dharmendra Pradhan on Wednesday claimed the illegal mining mafia in Odisha operates under the control of CM Naveen Patnaik and state Congress chief Niranjan Patnaik.\n",
      "\n",
      "\n"
     ]
    }
   ],
   "source": [
    "WORDS = 15\n",
    "\n",
    "pred_summarize_word(data, 10, 20, WORDS)"
   ]
  },
  {
   "cell_type": "markdown",
   "id": "51352014",
   "metadata": {},
   "source": [
    "# Extractive, Abstractive 요약 결과\n"
   ]
  },
  {
   "attachments": {
    "image.png": {
     "image/png": "[encoded data removed]"
    }
   },
   "cell_type": "markdown",
   "id": "8139b64b",
   "metadata": {},
   "source": [
    "Abstractive\n",
    "![image.png](attachment:image.png)\n",
    "\n",
    "장점으로는 원문장의 표현을 재구성시키기 때문에 더 넓게 요약이 가능. 문장 길이 또한 조절이 되지만 문법이 어색하고 계산 시간이 오래걸린다. "
   ]
  },
  {
   "attachments": {
    "image.png": {
     "image/png": "[encoded data removed]"
    }
   },
   "cell_type": "markdown",
   "id": "a32711d0",
   "metadata": {},
   "source": [
    "Extractive\n",
    "![image.png](attachment:image.png)\n",
    "\n",
    "장점으로는 내용이 짧을다면 요약 기능이 더 향상된다. 문법적으로 더 좋다. 단점의 경우 word와 ratio 비율이 작을 경우 출력이 잘안된다. \n",
    "\n",
    "또 같은 단어가 연속으로 출력되는 문제가 있다."
   ]
  },
  {
   "cell_type": "markdown",
   "id": "44b19065",
   "metadata": {},
   "source": [
    "# 회고 "
   ]
  },
  {
   "cell_type": "markdown",
   "id": "f336c42a",
   "metadata": {},
   "source": [
    "추상적, 추출적 요약 내용을 만들어 보았는데 역시나 자연어 처리는 어려웠으며 전처리의 중요성을 다시 한번 깨닫는다. 전처리만 잘해준다면 같은 모델을 써도 \n",
    "성능을 더 높일 수 있으며, 모델의 추상적 요약의 경우에 어텐션 메커니즘을 적용하여 가중치를 얼마나 주냐에 따라 성능이 달라지는 것을 배웠으며 추상적 추출적 요약의 차이와 장단점을 알게된 하루였다. 아직 코드를 전부 이해하진 못했지만 시간 날때 마다 보면서 이해시켜야겠다."
   ]
  },
  {
   "cell_type": "code",
   "execution_count": null,
   "id": "19d999a0",
   "metadata": {},
   "outputs": [],
   "source": []
  }
 ],
 "metadata": {
  "kernelspec": {
   "display_name": "Python 3 (ipykernel)",
   "language": "python",
   "name": "python3"
  },
  "language_info": {
   "codemirror_mode": {
    "name": "ipython",
    "version": 3
   },
   "file_extension": ".py",
   "mimetype": "text/x-python",
   "name": "python",
   "nbconvert_exporter": "python",
   "pygments_lexer": "ipython3",
   "version": "3.9.7"
  }
 },
 "nbformat": 4,
 "nbformat_minor": 5
}
