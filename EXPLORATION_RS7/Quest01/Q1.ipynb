{
 "cells": [
  {
   "cell_type": "code",
   "execution_count": 87,
   "id": "3f747716",
   "metadata": {},
   "outputs": [],
   "source": [
    "import pandas as pd\n",
    "import numpy as np\n",
    "from sklearn.datasets import load_diabetes\n",
    "import seaborn as sns\n",
    "\n",
    "diabetes=load_diabetes()\n",
    "diabetes\n",
    "df_x= diabetes.data\n",
    "df_y= diabetes.target"
   ]
  },
  {
   "cell_type": "code",
   "execution_count": 88,
   "id": "b1682886",
   "metadata": {},
   "outputs": [],
   "source": [
    "from sklearn.model_selection import train_test_split\n",
    "\n",
    "X_train, X_test, y_train, y_test = train_test_split(df_x, df_y, test_size=0.2, random_state=42)"
   ]
  },
  {
   "cell_type": "code",
   "execution_count": 89,
   "id": "fc77f9d1",
   "metadata": {},
   "outputs": [
    {
     "name": "stdout",
     "output_type": "stream",
     "text": [
      "(353, 10) (353,)\n",
      "(89, 10) (89,)\n"
     ]
    }
   ],
   "source": [
    "print(X_train.shape, y_train.shape)\n",
    "print(X_test.shape, y_test.shape)"
   ]
  },
  {
   "cell_type": "code",
   "execution_count": 90,
   "id": "c2ba6fc4",
   "metadata": {},
   "outputs": [
    {
     "data": {
      "text/plain": [
       "0.22000278724302602"
      ]
     },
     "execution_count": 90,
     "metadata": {},
     "output_type": "execute_result"
    }
   ],
   "source": [
    "import numpy as np\n",
    "W = np.random.rand(10)\n",
    "b = np.random.rand()\n",
    "W\n",
    "b"
   ]
  },
  {
   "cell_type": "code",
   "execution_count": 91,
   "id": "c8302eb5",
   "metadata": {},
   "outputs": [],
   "source": [
    "def model(X, W, b):\n",
    "    predictions = 0\n",
    "    for i in range(10):\n",
    "        predictions += X[:, i] * W[i]\n",
    "    predictions += b\n",
    "    return predictions\n"
   ]
  },
  {
   "cell_type": "code",
   "execution_count": 92,
   "id": "c0659067",
   "metadata": {},
   "outputs": [],
   "source": [
    "def MSE(a, b):\n",
    "    mse = ((a - b) ** 2).mean()  # 두 값의 차이의 제곱의 평균\n",
    "    return mse\n",
    "\n",
    "def loss(X, W, b, y):\n",
    "    predictions = model(X, W, b)\n",
    "    L = MSE(predictions, y)\n",
    "    return L\n"
   ]
  },
  {
   "cell_type": "code",
   "execution_count": 93,
   "id": "7c3b518b",
   "metadata": {},
   "outputs": [],
   "source": [
    "\n",
    "def gradient(X, W, b, y):\n",
    "    # N은 데이터 포인트의 개수\n",
    "    N = len(y)\n",
    "    \n",
    "    # y_pred 준비\n",
    "    y_pred = model(X, W, b)\n",
    "    \n",
    "    # 공식에 맞게 gradient 계산\n",
    "    dW = 1/N * 2 * X.T.dot(y_pred - y)\n",
    "        \n",
    "    # b의 gradient 계산\n",
    "    db = 2 * (y_pred - y).mean()\n",
    "    return dW, db\n"
   ]
  },
  {
   "cell_type": "code",
   "execution_count": 94,
   "id": "fc250121",
   "metadata": {},
   "outputs": [
    {
     "name": "stdout",
     "output_type": "stream",
     "text": [
      "dW: [-1.85503636 -0.10272555 -4.97561645 -3.71053336 -1.30330038 -0.89067239\n",
      "  3.10983866 -3.2668734  -4.47521184 -3.5131081 ]\n",
      "db: -307.02906338449765\n"
     ]
    }
   ],
   "source": [
    "dW, db = gradient(X_train, W, b, y_train)\n",
    "print(\"dW:\", dW)\n",
    "print(\"db:\", db)"
   ]
  },
  {
   "cell_type": "code",
   "execution_count": 107,
   "id": "dc8b11fc",
   "metadata": {},
   "outputs": [
    {
     "name": "stdout",
     "output_type": "stream",
     "text": [
      "Iteration 10000 : Loss 3159.3754\n",
      "Iteration 20000 : Loss 3154.3869\n",
      "Iteration 30000 : Loss 3149.5097\n",
      "Iteration 40000 : Loss 3144.7405\n",
      "Iteration 50000 : Loss 3140.0761\n",
      "Iteration 60000 : Loss 3135.5136\n",
      "Iteration 70000 : Loss 3131.0502\n",
      "Iteration 80000 : Loss 3126.6831\n",
      "Iteration 90000 : Loss 3122.4097\n",
      "Iteration 100000 : Loss 3118.2274\n",
      "Iteration 110000 : Loss 3114.1338\n",
      "Iteration 120000 : Loss 3110.1267\n",
      "Iteration 130000 : Loss 3106.2037\n",
      "Iteration 140000 : Loss 3102.3626\n",
      "Iteration 150000 : Loss 3098.6013\n",
      "Iteration 160000 : Loss 3094.9180\n",
      "Iteration 170000 : Loss 3091.3105\n",
      "Iteration 180000 : Loss 3087.7770\n",
      "Iteration 190000 : Loss 3084.3156\n",
      "Iteration 200000 : Loss 3080.9248\n",
      "Iteration 210000 : Loss 3077.6026\n",
      "Iteration 220000 : Loss 3074.3475\n",
      "Iteration 230000 : Loss 3071.1579\n",
      "Iteration 240000 : Loss 3068.0322\n",
      "Iteration 250000 : Loss 3064.9690\n",
      "Iteration 260000 : Loss 3061.9667\n",
      "Iteration 270000 : Loss 3059.0241\n",
      "Iteration 280000 : Loss 3056.1396\n",
      "Iteration 290000 : Loss 3053.3121\n",
      "Iteration 300000 : Loss 3050.5402\n",
      "Iteration 310000 : Loss 3047.8226\n",
      "Iteration 320000 : Loss 3045.1582\n",
      "Iteration 330000 : Loss 3042.5457\n",
      "Iteration 340000 : Loss 3039.9841\n",
      "Iteration 350000 : Loss 3037.4722\n",
      "Iteration 360000 : Loss 3035.0089\n",
      "Iteration 370000 : Loss 3032.5931\n",
      "Iteration 380000 : Loss 3030.2240\n",
      "Iteration 390000 : Loss 3027.9003\n",
      "Iteration 400000 : Loss 3025.6212\n",
      "Iteration 410000 : Loss 3023.3857\n",
      "Iteration 420000 : Loss 3021.1930\n",
      "Iteration 430000 : Loss 3019.0420\n",
      "Iteration 440000 : Loss 3016.9319\n",
      "Iteration 450000 : Loss 3014.8618\n",
      "Iteration 460000 : Loss 3012.8310\n",
      "Iteration 470000 : Loss 3010.8386\n",
      "Iteration 480000 : Loss 3008.8838\n",
      "Iteration 490000 : Loss 3006.9658\n",
      "Iteration 500000 : Loss 3005.0838\n",
      "Iteration 510000 : Loss 3003.2372\n",
      "Iteration 520000 : Loss 3001.4252\n",
      "Iteration 530000 : Loss 2999.6471\n",
      "Iteration 540000 : Loss 2997.9021\n",
      "Iteration 550000 : Loss 2996.1898\n",
      "Iteration 560000 : Loss 2994.5093\n",
      "Iteration 570000 : Loss 2992.8600\n",
      "Iteration 580000 : Loss 2991.2413\n",
      "Iteration 590000 : Loss 2989.6526\n",
      "Iteration 600000 : Loss 2988.0933\n",
      "Iteration 610000 : Loss 2986.5628\n",
      "Iteration 620000 : Loss 2985.0605\n",
      "Iteration 630000 : Loss 2983.5858\n",
      "Iteration 640000 : Loss 2982.1383\n",
      "Iteration 650000 : Loss 2980.7173\n",
      "Iteration 660000 : Loss 2979.3224\n",
      "Iteration 670000 : Loss 2977.9530\n",
      "Iteration 680000 : Loss 2976.6087\n",
      "Iteration 690000 : Loss 2975.2889\n",
      "Iteration 700000 : Loss 2973.9931\n",
      "Iteration 710000 : Loss 2972.7209\n",
      "Iteration 720000 : Loss 2971.4719\n",
      "Iteration 730000 : Loss 2970.2455\n",
      "Iteration 740000 : Loss 2969.0414\n",
      "Iteration 750000 : Loss 2967.8590\n",
      "Iteration 760000 : Loss 2966.6980\n",
      "Iteration 770000 : Loss 2965.5580\n",
      "Iteration 780000 : Loss 2964.4385\n",
      "Iteration 790000 : Loss 2963.3392\n",
      "Iteration 800000 : Loss 2962.2596\n",
      "Iteration 810000 : Loss 2961.1994\n",
      "Iteration 820000 : Loss 2960.1582\n",
      "Iteration 830000 : Loss 2959.1357\n",
      "Iteration 840000 : Loss 2958.1314\n",
      "Iteration 850000 : Loss 2957.1451\n",
      "Iteration 860000 : Loss 2956.1764\n",
      "Iteration 870000 : Loss 2955.2249\n",
      "Iteration 880000 : Loss 2954.2904\n",
      "Iteration 890000 : Loss 2953.3724\n",
      "Iteration 900000 : Loss 2952.4708\n",
      "Iteration 910000 : Loss 2951.5851\n",
      "Iteration 920000 : Loss 2950.7150\n",
      "Iteration 930000 : Loss 2949.8604\n",
      "Iteration 940000 : Loss 2949.0208\n",
      "Iteration 950000 : Loss 2948.1960\n",
      "Iteration 960000 : Loss 2947.3858\n",
      "Iteration 970000 : Loss 2946.5898\n",
      "Iteration 980000 : Loss 2945.8077\n",
      "Iteration 990000 : Loss 2945.0394\n"
     ]
    }
   ],
   "source": [
    "LEARNING_RATE = 0.0002\n",
    "losses = []\n",
    "\n",
    "for i in range(1, 1000000):\n",
    "    dW, db = gradient(X_train, W, b, y_train)\n",
    "    W -= LEARNING_RATE * dW\n",
    "    b -= LEARNING_RATE * db\n",
    "    L = loss(X_train, W, b, y_train)\n",
    "    losses.append(L)\n",
    "    if i % 10000 == 0:\n",
    "        print('Iteration %d : Loss %0.4f' % (i, L))"
   ]
  },
  {
   "cell_type": "code",
   "execution_count": 108,
   "id": "659f3263",
   "metadata": {},
   "outputs": [
    {
     "data": {
      "image/png": "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\n",
      "text/plain": [
       "<Figure size 432x288 with 1 Axes>"
      ]
     },
     "metadata": {
      "needs_background": "light"
     },
     "output_type": "display_data"
    }
   ],
   "source": [
    "import matplotlib.pyplot as plt\n",
    "plt.plot(losses)\n",
    "plt.show()\n"
   ]
  },
  {
   "cell_type": "code",
   "execution_count": 109,
   "id": "154ce2af",
   "metadata": {},
   "outputs": [
    {
     "data": {
      "text/plain": [
       "(array([  46.09291227, -173.74106166,  474.65744197,  309.61026555,\n",
       "         -53.35138701, -101.49252444, -210.60736121,  145.44287592,\n",
       "         353.92114288,  129.46903348]),\n",
       " 151.4638515281427)"
      ]
     },
     "execution_count": 109,
     "metadata": {},
     "output_type": "execute_result"
    }
   ],
   "source": [
    "W, b"
   ]
  },
  {
   "cell_type": "code",
   "execution_count": 113,
   "id": "ae7c0394",
   "metadata": {},
   "outputs": [
    {
     "name": "stdout",
     "output_type": "stream",
     "text": [
      "53.52492140787675\n"
     ]
    }
   ],
   "source": [
    "prediction = model(X_test, W, b)\n",
    "mse = loss(X_test, W, b, y_test)\n",
    "mse\n",
    "print(np.sqrt(mse))"
   ]
  },
  {
   "cell_type": "code",
   "execution_count": 111,
   "id": "1fa904ad",
   "metadata": {},
   "outputs": [
    {
     "data": {
      "image/png": "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\n",
      "text/plain": [
       "<Figure size 432x288 with 1 Axes>"
      ]
     },
     "metadata": {
      "needs_background": "light"
     },
     "output_type": "display_data"
    }
   ],
   "source": [
    "plt.scatter(X_test[:, 0], y_test)\n",
    "plt.scatter(X_test[:, 0], prediction)\n",
    "plt.show()"
   ]
  },
  {
   "cell_type": "code",
   "execution_count": null,
   "id": "d1f4e915",
   "metadata": {},
   "outputs": [],
   "source": []
  }
 ],
 "metadata": {
  "kernelspec": {
   "display_name": "Python 3 (ipykernel)",
   "language": "python",
   "name": "python3"
  },
  "language_info": {
   "codemirror_mode": {
    "name": "ipython",
    "version": 3
   },
   "file_extension": ".py",
   "mimetype": "text/x-python",
   "name": "python",
   "nbconvert_exporter": "python",
   "pygments_lexer": "ipython3",
   "version": "3.9.7"
  }
 },
 "nbformat": 4,
 "nbformat_minor": 5
}

sdasdas
